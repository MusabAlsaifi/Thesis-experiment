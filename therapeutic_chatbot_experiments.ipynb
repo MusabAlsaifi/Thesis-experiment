{
  "cells": [
    {
      "cell_type": "markdown",
      "metadata": {
        "id": "NXzC3APmDZSr"
      },
      "source": [
        "# Introduction\n",
        "\n",
        "This notebook is divided into three sections:\n",
        "##1. [Fine-tuning with OpenAI](https://colab.research.google.com/drive/1gIt7gWAyFBqYy6L3yGVlF6jzws6Zjcmt#scrollTo=Zsn1wkUqCa-Q)\n",
        "- Fine-tuning GPT-4o-mini with a train and test dataset.\n",
        "### **Train dataset:**\n",
        "Contains transcripts from therapy session collected from books and podcasts. \\\n",
        "\n",
        "- **Book:** https://anamartinspsicoterapiaacp.wordpress.com/wp-content/uploads/2016/04/brodley-transcripts-of-carl-rogers-therapy-sessions.pdf \\\n",
        "The pdf book is then converted to a json format using gpt and langchain, refer to the repo: \\\n",
        "The json file is then converted to jsonl format\n",
        "- **Podcast 1:** https://podcasts.apple.com/pl/podcast/other-peoples-problems/id1355059144\n",
        "- **Podcast 2:** https://podcasts.apple.com/pl/podcast/where-should-we-begin-with-esther-perel/id1237931798 \\\n",
        "For both Podcasts, the transcripts are extracted manually to pdf then to json and jsonl, using the repo mentioned above.\n",
        "### **Test dataset:**\n",
        "This dataset is from the huggingface, it contains question-answer pairs related to mental health\n",
        "- https://huggingface.co/datasets/Amod/mental_health_counseling_conversations\n",
        "#####**Example:**\n",
        "{ \\\n",
        "    \"Context\":\"How can I get to a place where I can be content from day to day?\",\\\n",
        "    \"Response\":\"It's important to take a look inside and see what's going on with you to cause you to have these feelings. Please contact us in whatever way is most comfortable for you and we can get you set up with someone who will help you figure out this space in your life.\" \\\n",
        "}\n",
        "\n",
        "---\n",
        "##2. [Evaluation with Langsmith](https://colab.research.google.com/drive/1gIt7gWAyFBqYy6L3yGVlF6jzws6Zjcmt#scrollTo=fT1mHMpuCsum)\n",
        "- The Evaluation method is ***llm-as-a-judge***. \\\n",
        "Basically, we use a superior llm e.g. GPT-4o, to evaluate the responses of our fine-tuned model on a certain criteria and to comapre the response of our model against other models as what is called ***pairwise evaluation***.\n",
        "\n",
        "### **Test dataset:**\n",
        "This dataset is from the huggingface, it contains question-answer pairs related to mental health\n",
        "- https://huggingface.co/datasets/Amod/mental_health_counseling_conversations\n",
        "#####**Example:**\n",
        "{ \\\n",
        "    \"Context\":\"How can I get to a place where I can be content from day to day?\",\\\n",
        "    \"Response\":\"It's important to take a look inside and see what's going on with you to cause you to have these feelings. Please contact us in whatever way is most comfortable for you and we can get you set up with someone who will help you figure out this space in your life.\" \\\n",
        "}\n",
        "\n",
        "The dataset is uploaded to the langsmith UI as a csv file and only the `Context` is used.\n",
        "\n",
        "### **The Evaluation Process:**\n",
        "1. We feed the dataset to our fine-tuned model and the model that we want to evaluate agianst.\n",
        "2. The response generated from each model are fed to the llm judge to evaluate them based on certian criteria.\n",
        "3. The response generated from both models are fed to the llm judge to campare them againt each other on a certain criteria and score. The resonse that got the hiegher score is considerd to be better.\n",
        "\n",
        "---\n",
        "## 3. [Generate Synthatic Data](https://colab.research.google.com/drive/1gIt7gWAyFBqYy6L3yGVlF6jzws6Zjcmt#scrollTo=0SayI_xn646J&line=13&uniqifier=1)\n",
        "Here we use GPT-4o to answer questions from the dataset: \\\n",
        "https://huggingface.co/datasets/Amod/mental_health_counseling_conversations  \n",
        "#####Then use the generated data to fine-tune our model."
      ]
    },
    {
      "cell_type": "markdown",
      "metadata": {
        "id": "bdad1EvrlM6d"
      },
      "source": [
        "# env"
      ]
    },
    {
      "cell_type": "code",
      "execution_count": 2,
      "metadata": {
        "id": "soDyZBszlGGH"
      },
      "outputs": [],
      "source": [
        "!pip install python-dotenv"
      ]
    },
    {
      "cell_type": "code",
      "execution_count": null,
      "metadata": {
        "id": "Bzp_QSiD_UsL"
      },
      "outputs": [],
      "source": [
        "# Create .env file\n",
        "# !touch '/content/drive/MyDrive/.env'"
      ]
    },
    {
      "cell_type": "code",
      "execution_count": null,
      "metadata": {
        "colab": {
          "base_uri": "https://localhost:8080/"
        },
        "id": "F80ymJwN4V70",
        "outputId": "b001ae16-97c7-4488-9c2c-ed6b374b4821"
      },
      "outputs": [
        {
          "output_type": "stream",
          "name": "stdout",
          "text": [
            "Mounted at /content/drive\n"
          ]
        },
        {
          "output_type": "execute_result",
          "data": {
            "text/plain": [
              "True"
            ]
          },
          "metadata": {},
          "execution_count": 2
        }
      ],
      "source": [
        "import dotenv\n",
        "from google.colab import drive\n",
        "\n",
        "drive.mount('/content/drive')\n",
        "\n",
        "dotenv.load_dotenv('/content/drive/MyDrive/.env')"
      ]
    },
    {
      "cell_type": "code",
      "execution_count": null,
      "metadata": {
        "id": "kFMBMvhglERF"
      },
      "outputs": [],
      "source": [
        "import os\n",
        "\n",
        "os.environ[\"LANGCHAIN_TRACING_V2\"]=\"true\"\n",
        "os.environ[\"LANGCHAIN_ENDPOINT\"]=\"https://api.smith.langchain.com\"\n",
        "OPENAI_API_KEY = os.environ.get(\"OPENAI_API_KEY\")\n",
        "GROQ_API_KEY = os.environ.get(\"GROQ_API_KEY\")\n",
        "FT_MODEL = os.environ.get(\"FT_MODEL\")\n",
        "LANGSMITH_API_KEY = os.environ.get(\"LANGSMITH_API_KEY\")\n",
        "# LLAMA_CLOUD_API_KEY = os.environ.get(\"LLAMA_CLOUD_API_KEY\")\n",
        "# TOGETHERAI_API_KEY = os.environ.get(\"TOGETHERAI_API_KEY\")\n",
        "# NGROK_AUTH_TOKEN = os.environ.get(\"NGROK_AUTH_TOKEN\")"
      ]
    },
    {
      "cell_type": "markdown",
      "metadata": {
        "id": "Zsn1wkUqCa-Q"
      },
      "source": [
        "# Fine-tuing OpenAI"
      ]
    },
    {
      "cell_type": "markdown",
      "metadata": {
        "id": "4OBMdknMBz-m"
      },
      "source": [
        "## Setup"
      ]
    },
    {
      "cell_type": "code",
      "execution_count": null,
      "metadata": {
        "collapsed": true,
        "id": "k3LNI-obECIA"
      },
      "outputs": [],
      "source": [
        "!pip install openai"
      ]
    },
    {
      "cell_type": "code",
      "execution_count": null,
      "metadata": {
        "id": "W6RZZN5SEZ2f"
      },
      "outputs": [],
      "source": [
        "from openai import OpenAI\n",
        "\n",
        "openai_client = OpenAI(api_key=OPENAI_API_KEY)"
      ]
    },
    {
      "cell_type": "markdown",
      "metadata": {
        "id": "g8Af-eXBCCS3"
      },
      "source": [
        "## Read the train and test jsonl files"
      ]
    },
    {
      "cell_type": "code",
      "execution_count": null,
      "metadata": {
        "id": "KWB25fcQEz2z"
      },
      "outputs": [],
      "source": [
        "# Read train.jsonl file\n",
        "with open(\"./train3.jsonl\", \"rb\") as file:\n",
        "    train_file_response = openai_client.files.create(\n",
        "        file=file,\n",
        "        purpose=\"fine-tune\"\n",
        "    )\n",
        "\n",
        "# Read test.jsonl file\n",
        "with open(\"./test3.jsonl\", \"rb\") as file:\n",
        "    test_file_response = openai_client.files.create(\n",
        "        file=file,\n",
        "        purpose=\"fine-tune\"\n",
        "    )\n",
        "\n",
        "# Get files ID\n",
        "train_file_id = train_file_response.id\n",
        "test_file_id = test_file_response.id\n",
        "print(f\"Train file ID: {train_file_id}\")\n",
        "print(f\"Test file ID: {test_file_id}\")"
      ]
    },
    {
      "cell_type": "markdown",
      "metadata": {
        "id": "T8w6BgFfCS60"
      },
      "source": [
        "## Create fine-tuing job\n"
      ]
    },
    {
      "cell_type": "code",
      "execution_count": null,
      "metadata": {
        "id": "Sduzv6o2E3O2"
      },
      "outputs": [],
      "source": [
        "import time\n",
        "\n",
        "response = openai_client.fine_tuning.jobs.create(\n",
        "    training_file=train_file_id,\n",
        "    validation_file=test_file_id,\n",
        "    hyperparameters={\n",
        "        \"n_epochs\": 10,\n",
        "        \"learning_rate_multiplier\": 0.2,\n",
        "        \"batch_size\": 5\n",
        "        },\n",
        "    model=\"gpt-4o-2024-08-06\",\n",
        ")\n",
        "\n",
        "job_id = response.id\n",
        "curr_status = response.status\n",
        "print(f\"Job ID: {job_id}\")\n",
        "print(f\"Initial status: {curr_status}\")\n",
        "\n",
        "# Loop to continuously check the status\n",
        "while True:\n",
        "    # Fetch the latest status of the job\n",
        "    job_response = openai_client.fine_tuning.jobs.retrieve(job_id)\n",
        "    new_status = job_response.status\n",
        "\n",
        "    # Check if the job has completed or failed\n",
        "    if new_status == \"succeeded\":\n",
        "        print(\"Job created successfully\")\n",
        "        print(f\"Fine-tuned model: {job_response.fine_tuned_model}\")\n",
        "        break\n",
        "    elif new_status == \"failed\":\n",
        "        print(\"Job failed\")\n",
        "        break\n",
        "\n",
        "    # If the status has changed, print the new status\n",
        "    if new_status != curr_status:\n",
        "        print(f\"Updated status: {new_status}...\")\n",
        "        curr_status = new_status\n",
        "\n",
        "    # Wait for 120 seconds before checking the status again\n",
        "    time.sleep(120)"
      ]
    },
    {
      "cell_type": "markdown",
      "metadata": {
        "id": "fT1mHMpuCsum"
      },
      "source": [
        "# Evaluation with Langsmith"
      ]
    },
    {
      "cell_type": "markdown",
      "metadata": {
        "id": "iivClRSrkeZY"
      },
      "source": [
        "## Setup"
      ]
    },
    {
      "cell_type": "code",
      "execution_count": 3,
      "metadata": {
        "collapsed": true,
        "id": "YNAlFB_1al_g"
      },
      "outputs": [],
      "source": [
        "!pip install -U langchain langchain_openai langsmith openai langgraph langchain_groq langchain_community"
      ]
    },
    {
      "cell_type": "markdown",
      "metadata": {
        "id": "zMeSxBauxqFX"
      },
      "source": [
        "## Class to create OpenAI & Groq models"
      ]
    },
    {
      "cell_type": "code",
      "execution_count": null,
      "metadata": {
        "id": "Fi-EDzSYtFpk"
      },
      "outputs": [],
      "source": [
        "from openai import OpenAI\n",
        "from langchain_openai import ChatOpenAI\n",
        "from langsmith.schemas import Example\n",
        "from langchain.prompts import ChatPromptTemplate\n",
        "from langchain.schema.output_parser import StrOutputParser\n",
        "\n",
        "class CreateApp:\n",
        "    \"\"\"\n",
        "    Class to create OpenAI models\n",
        "    Args:\n",
        "        client (OpenAI): OpenAI client\n",
        "        model (str): Model name\n",
        "        prompt (str): Prompt to use\n",
        "    \"\"\"\n",
        "    def __init__(self, client, model, prompt):\n",
        "        self.client = client\n",
        "        self.model = model\n",
        "        self.prompt = prompt\n",
        "\n",
        "    def predict(self, example: Example) -> dict:\n",
        "        \"\"\"\n",
        "        Generates a prediction based on the provided example.\n",
        "        \"\"\"\n",
        "\n",
        "        # Check whether the model is from OpenAI or Groq\n",
        "        if type(self.client) == OpenAI:\n",
        "            chat = ChatOpenAI(model_name=self.model, max_completion_tokens=512)\n",
        "        elif type(self.client) == ChatGroq:\n",
        "            chat = ChatGroq(model_name=self.model)\n",
        "\n",
        "        res = self.prompt | chat | StrOutputParser()\n",
        "        response = res.invoke({\"input\": example[\"Context\"]})\n",
        "        return {\"answer\": response}\n"
      ]
    },
    {
      "cell_type": "markdown",
      "metadata": {
        "id": "RzczVwB3IXUK"
      },
      "source": [
        "List the avaliable models in Groq"
      ]
    },
    {
      "cell_type": "code",
      "execution_count": null,
      "metadata": {
        "colab": {
          "base_uri": "https://localhost:8080/"
        },
        "id": "R5z5Cm4uHZDd",
        "outputId": "d35d36e7-69ba-41e1-9384-914ea479bf20"
      },
      "outputs": [
        {
          "output_type": "stream",
          "name": "stdout",
          "text": [
            "['whisper-large-v3', 'llama-3.3-70b-specdec', 'gemma2-9b-it', 'distil-whisper-large-v3-en', 'llama-guard-3-8b', 'llama-3.2-3b-preview', 'llama-3.3-70b-versatile', 'llama-3.2-1b-preview', 'llama-3.2-90b-vision-preview', 'llama-3.1-8b-instant', 'whisper-large-v3-turbo', 'llama-3.1-70b-versatile', 'llama3-70b-8192', 'mixtral-8x7b-32768', 'llama-3.2-11b-vision-preview', 'llama3-8b-8192']\n"
          ]
        }
      ],
      "source": [
        "import requests\n",
        "import os\n",
        "\n",
        "url = \"https://api.groq.com/openai/v1/models\"\n",
        "\n",
        "headers = {\n",
        "    \"Authorization\": f\"Bearer {GROQ_API_KEY}\",\n",
        "    \"Content-Type\": \"application/json\"\n",
        "}\n",
        "response = requests.get(url, headers=headers)\n",
        "\n",
        "groq_models_list = []\n",
        "# get models' names from Groq\n",
        "for model in response.json()['data']:\n",
        "    groq_models_list.append(model['id'])\n",
        "\n",
        "print(groq_models_list)"
      ]
    },
    {
      "cell_type": "markdown",
      "metadata": {
        "id": "UvgqeceN8Ngd"
      },
      "source": [
        "## Models' prompt"
      ]
    },
    {
      "cell_type": "markdown",
      "source": [
        "### Standard Prompt\n",
        "Prompt without any specifications"
      ],
      "metadata": {
        "id": "FhQD3w6YNVVF"
      }
    },
    {
      "cell_type": "code",
      "source": [
        "std_prmopt = \"\"\"You are helpfull assistant\"\"\""
      ],
      "metadata": {
        "id": "tcpzSSwdMn20"
      },
      "execution_count": null,
      "outputs": []
    },
    {
      "cell_type": "markdown",
      "source": [
        "### Initial Prompt\n",
        "A prompt that defines a therapeutic counselor role with specific behavioral guidelines and initial response parameters, requiring empathetic support and professional engagement with clients."
      ],
      "metadata": {
        "id": "Pexrjl-eNdno"
      }
    },
    {
      "cell_type": "code",
      "execution_count": null,
      "metadata": {
        "id": "avO5RX2c8ML6"
      },
      "outputs": [],
      "source": [
        "initial_prompt = \"\"\"\n",
        "You are a compassionate and professional therapist in a virtual therapy session.\n",
        "Your goal is to provide empathetic support, active listening, and elaborating\n",
        "with questions or thoughts and evidence-based guidance to help the client navigate their emotions,\n",
        "thoughts, and challenges.\n",
        "Your first response should assure the user that you're here for them and that\n",
        "you understand what they are going through.\n",
        "Remember to keep the conversation engaging and maintain a warm and non-judgmental tone throughout the conversation.\n",
        "\"\"\""
      ]
    },
    {
      "cell_type": "markdown",
      "source": [
        "### Step-by-step Prompt\n",
        "This is a comprehensive prompt that structures a therapeutic interaction through a detailed steps framework, with 18 specific response criteria for providing empathetic, professional therapy services, including initial engagement, response protocols, and quality assurance measures."
      ],
      "metadata": {
        "id": "gG7NOCYkN31Y"
      }
    },
    {
      "cell_type": "code",
      "execution_count": null,
      "metadata": {
        "id": "K5yh6gJ7yg9D"
      },
      "outputs": [],
      "source": [
        "steps_prompt = \"\"\"\n",
        "You are a compassionate, professional therapist in a virtual therapy session.\n",
        "The user will share feelings and challenges they are experiencing.\n",
        "Your role is to provide empathetic, personalized, and therapeutic responses while maintaining a warm, non-judgmental tone.\n",
        "\n",
        "Use the following step-by-step for your response:\n",
        "\n",
        "# Steps:\n",
        "\n",
        "# Step 1: Analyze the Client’s Concerns\n",
        "- Carefully evaluate the client’s language, tone, and underlying concerns.\n",
        "- Identify emotions, recurring themes, and potential causes of distress.\n",
        "\n",
        "# Step 2: Response Guidelines\n",
        "\n",
        "Your responses must meet these criteria:\n",
        "**1.Empathy:** Show genuine understanding and compassion for the client’s emotions and experiences.\n",
        "**2.Emotional Validation:** Acknowledge and affirm the client’s feelings as valid.\n",
        "**3.Client-Centered Approach:** Allow the client to guide the conversation, encouraging self-exploration.\n",
        "**4.Depth of Exploration:** Help the client delve deeper into their emotions and thoughts to uncover root causes.\n",
        "**5.Supportiveness:** Create a safe, non-judgmental space for open expression.\n",
        "**6.Professional Tone:** Maintain professionalism while being warm, approachable, and respectful.\n",
        "**7.Active Listening:** Reflect key points to demonstrate understanding.\n",
        "**8.Clarity and Coherence:** Ensure your response is easy to understand and logically structured.\n",
        "**9.Tailored Feedback:** Provide personalized suggestions relevant to the client’s specific situation.\n",
        "**10.Cultural Sensitivity:** Respect the client’s cultural background and values.\n",
        "**11.Encouragement of Autonomy:** Empower the client to make their own decisions and foster self-reliance.\n",
        "**12.Crisis Management:** Recognize signs of emotional distress or potential crises and respond appropriately.\n",
        "**13.Reflective Mirroring:** Reflect the client’s emotions and thoughts to help them feel heard.\n",
        "**14.Positive Reinforcement:** Highlight and encourage positive behaviors or progress.\n",
        "**15.Open-Ended Questions:** Use open-ended questions to invite deeper self-reflection.\n",
        "**16.Therapeutic Pacing:** Ensure the conversation flows at a pace comfortable for the client.\n",
        "**17.Consistency:** Align responses with the client’s ongoing therapeutic goals.\n",
        "**18.Evidence-Based Techniques:** Incorporate therapeutic methods like cognitive-behavioral therapy (CBT) or mindfulness as appropriate.\n",
        "\n",
        "# Step 3: Initial Response\n",
        "- Reassure the client that you are here to support them.\n",
        "- Acknowledge and validate their feelings.\n",
        "- Encourage them to share more about their emotions, experiences, and potential causes of distress.\n",
        "\n",
        "# Step 4: Continuous Engagement\n",
        "- Keep the conversation engaging, warm, and focused on understanding the client’s perspective.\n",
        "- Guide the discussion with open-ended questions to explore:\n",
        "- Why the client feels this way.\n",
        "- How the situation developed.\n",
        "- Underlying factors contributing to the issue.\n",
        "\n",
        "# Step 5: Review Your Response\n",
        "\n",
        "** Before responding: **\n",
        "Verify that your reply meets the guidelines in Step 2 and aligns with Steps 3 and 4.\n",
        "Ensure your tone is empathetic, your language is clear, and your approach is tailored to the client’s needs.\n",
        "\n",
        "\"\"\""
      ]
    },
    {
      "cell_type": "markdown",
      "source": [
        "### Chain-of-Though Prompt\n",
        "This is an enhanced version of the previous prompt that adds Chain of Thought (CoT) reasoning methodology, featuring a more detailed steps framework that includes specific analytical and clinical reasoning steps for providing therapeutic support, with a strong emphasis on systematic thinking and logical progression throughout the therapeutic process."
      ],
      "metadata": {
        "id": "wyhxbeYJPoUv"
      }
    },
    {
      "cell_type": "code",
      "source": [
        "cot_prompt = \"\"\"\n",
        "You are a compassionate, professional therapist in a virtual therapy session.\n",
        "The user will share feelings and challenges they are experiencing.\n",
        "Your role is to provide empathetic, personalized, and therapeutic responses while maintaining a warm, non-judgmental tone.\n",
        "\n",
        "Use the following step-by-step for your response, incorporating **Chain of Thought (CoT)** reasoning to ensure clarity and logical progression in understanding and addressing the client's concerns.\n",
        "\n",
        "---\n",
        "\n",
        "# Steps:\n",
        "\n",
        "## **Step 1: Analyze the Client’s Concerns**\n",
        "1. **Identify and Interpret:**\n",
        "   - Carefully read the client's input to identify their emotions, concerns, and potential underlying causes.\n",
        "   - Look for themes, patterns, or recurring thoughts that indicate the root of their distress.\n",
        "\n",
        "2. **Break Down the Concern:**\n",
        "   - Consider each part of the client’s statement individually, identifying contributing factors or areas needing exploration.\n",
        "   - Reflect on any indirect cues that might provide additional insight.\n",
        "\n",
        "---\n",
        "\n",
        "## **Step 2: Response Guidelines**\n",
        "### Your responses must meet these criteria:\n",
        "**1. Empathy:** Show genuine understanding and compassion for the client’s emotions and experiences.\n",
        "**2. Emotional Validation:** Acknowledge and affirm the client’s feelings as valid.\n",
        "**3. Client-Centered Approach:** Allow the client to guide the conversation, encouraging self-exploration.\n",
        "**4. Depth of Exploration:** Help the client delve deeper into their emotions and thoughts to uncover root causes.\n",
        "**5. Supportiveness:** Create a safe, non-judgmental space for open expression.\n",
        "**6. Professional Tone:** Maintain professionalism while being warm, approachable, and respectful.\n",
        "**7. Active Listening:** Reflect key points to demonstrate understanding.\n",
        "**8. Clarity and Coherence:** Ensure your response is easy to understand and logically structured.\n",
        "**9. Tailored Feedback:** Provide personalized suggestions relevant to the client’s specific situation.\n",
        "**10. Cultural Sensitivity:** Respect the client’s cultural background and values.\n",
        "**11. Encouragement of Autonomy:** Empower the client to make their own decisions and foster self-reliance.\n",
        "**12. Crisis Management:** Recognize signs of emotional distress or potential crises and respond appropriately.\n",
        "**13. Reflective Mirroring:** Reflect the client’s emotions and thoughts to help them feel heard.\n",
        "**14. Positive Reinforcement:** Highlight and encourage positive behaviors or progress.\n",
        "**15. Open-Ended Questions:** Use open-ended questions to invite deeper self-reflection.\n",
        "**16. Therapeutic Pacing:** Ensure the conversation flows at a pace comfortable for the client.\n",
        "**17. Consistency:** Align responses with the client’s ongoing therapeutic goals.\n",
        "**18. Evidence-Based Techniques:** Incorporate therapeutic methods like cognitive-behavioral therapy (CBT) or mindfulness as appropriate.\n",
        "\n",
        "---\n",
        "\n",
        "## **Step 3: Apply the following Reasoning steps**\n",
        "\n",
        "1. **Symptom Analysis:**\n",
        "   - Identify and summarize the client’s primary complaint (e.g., worsening anxiety) and secondary issues (e.g., sleep disturbance).\n",
        "   - Acknowledge and validate their emotional experience to establish understanding and trust.\n",
        "\n",
        "2. **Explore Contributing Factors:**\n",
        "   - Use open-ended questions to encourage the client to describe specific thoughts, emotions, or patterns they notice during difficult moments (e.g., sleepless nights).\n",
        "   - Gradually identify potential feedback loops, such as the connection between anxiety and insomnia.\n",
        "\n",
        "3. **Clinical Considerations:**\n",
        "   - Assess the severity of the client’s symptoms and their impact on daily functioning.\n",
        "   - Evaluate current coping mechanisms and discuss possible adjustments, such as exploring grounding techniques or changes in routine.\n",
        "\n",
        "4. **Intervention Planning:**\n",
        "   - Suggest small, actionable strategies (e.g., relaxation techniques, sleep hygiene practices) tailored to the client’s needs.\n",
        "   - Emphasize normalization of their experience while introducing grounding tools to help in the moment.\n",
        "\n",
        "5. **Reinforce Strengths and Support Progress:**\n",
        "   - Highlight the client’s willingness to address their concerns as a sign of resilience.\n",
        "   - Encourage them to take incremental steps and affirm their progress, emphasizing their ability to regain control over their situation.\n",
        "\n",
        "---\n",
        "\n",
        "## **Step 4: Initial Response**\n",
        "- Reassure the client that you are here to support them.\n",
        "- Acknowledge and validate their feelings.\n",
        "- Encourage them to share more about their emotions, experiences, and potential causes of distress.\n",
        "\n",
        "---\n",
        "\n",
        "## **Step 5: Continuous Engagement**\n",
        "- Keep the conversation engaging, warm, and focused on understanding the client’s perspective.\n",
        "- Use CoT to guide the discussion, focusing on:\n",
        "  - Why the client feels this way.\n",
        "  - How the situation developed.\n",
        "  - Underlying factors contributing to the issue.\n",
        "\n",
        "---\n",
        "\n",
        "## **Step 6: Review Your Response**\n",
        "- Before responding, verify that your reply aligns with the above steps.\n",
        "- Ensure your tone is empathetic, your language is clear, and your approach is tailored to the client’s needs.\n",
        "\"\"\""
      ],
      "metadata": {
        "id": "J3lZ1i39NYRv"
      },
      "execution_count": null,
      "outputs": []
    },
    {
      "cell_type": "markdown",
      "source": [
        "### Few-Shot-CoT Prompt\n",
        "This is an enhanced version of the previous CoT prompt that adds detailed examples, showing how to apply the thought process to the user query."
      ],
      "metadata": {
        "id": "mldh-i7WQK1O"
      }
    },
    {
      "cell_type": "code",
      "source": [
        "fs_cot_prompt = \"\"\"\n",
        "You are a compassionate, professional therapist in a virtual therapy session.\n",
        "The user will share feelings and challenges they are experiencing.\n",
        "Your role is to provide empathetic, personalized, and therapeutic responses while maintaining a warm, non-judgmental tone.\n",
        "\n",
        "Use the following step-by-step for your response, incorporating **Chain of Thought (CoT)** reasoning to ensure clarity and logical progression in understanding and addressing the client's concerns.\n",
        "\n",
        "---\n",
        "\n",
        "# Steps:\n",
        "\n",
        "## **Step 1: Analyze the Client’s Concerns**\n",
        "1. **Identify and Interpret:**\n",
        "   - Carefully read the client's input to identify their emotions, concerns, and potential underlying causes.\n",
        "   - Look for themes, patterns, or recurring thoughts that indicate the root of their distress.\n",
        "\n",
        "2. **Break Down the Concern:**\n",
        "   - Consider each part of the client’s statement individually, identifying contributing factors or areas needing exploration.\n",
        "   - Reflect on any indirect cues that might provide additional insight.\n",
        "\n",
        "---\n",
        "\n",
        "## **Step 2: Response Guidelines**\n",
        "### Your responses must meet these criteria:\n",
        "**1. Empathy:** Show genuine understanding and compassion for the client’s emotions and experiences.\n",
        "**2. Emotional Validation:** Acknowledge and affirm the client’s feelings as valid.\n",
        "**3. Client-Centered Approach:** Allow the client to guide the conversation, encouraging self-exploration.\n",
        "**4. Depth of Exploration:** Help the client delve deeper into their emotions and thoughts to uncover root causes.\n",
        "**5. Supportiveness:** Create a safe, non-judgmental space for open expression.\n",
        "**6. Professional Tone:** Maintain professionalism while being warm, approachable, and respectful.\n",
        "**7. Active Listening:** Reflect key points to demonstrate understanding.\n",
        "**8. Clarity and Coherence:** Ensure your response is easy to understand and logically structured.\n",
        "**9. Tailored Feedback:** Provide personalized suggestions relevant to the client’s specific situation.\n",
        "**10. Cultural Sensitivity:** Respect the client’s cultural background and values.\n",
        "**11. Encouragement of Autonomy:** Empower the client to make their own decisions and foster self-reliance.\n",
        "**12. Crisis Management:** Recognize signs of emotional distress or potential crises and respond appropriately.\n",
        "**13. Reflective Mirroring:** Reflect the client’s emotions and thoughts to help them feel heard.\n",
        "**14. Positive Reinforcement:** Highlight and encourage positive behaviors or progress.\n",
        "**15. Open-Ended Questions:** Use open-ended questions to invite deeper self-reflection.\n",
        "**16. Therapeutic Pacing:** Ensure the conversation flows at a pace comfortable for the client.\n",
        "**17. Consistency:** Align responses with the client’s ongoing therapeutic goals.\n",
        "**18. Evidence-Based Techniques:** Incorporate therapeutic methods like cognitive-behavioral therapy (CBT) or mindfulness as appropriate.\n",
        "\n",
        "---\n",
        "\n",
        "## **Step 3: Apply the following Reasoning steps**\n",
        "\n",
        "1. **Symptom Analysis:**\n",
        "   - Identify and summarize the client’s primary complaint (e.g., worsening anxiety) and secondary issues (e.g., sleep disturbance).\n",
        "   - Acknowledge and validate their emotional experience to establish understanding and trust.\n",
        "\n",
        "2. **Explore Contributing Factors:**\n",
        "   - Use open-ended questions to encourage the client to describe specific thoughts, emotions, or patterns they notice during difficult moments (e.g., sleepless nights).\n",
        "   - Gradually identify potential feedback loops, such as the connection between anxiety and insomnia.\n",
        "\n",
        "3. **Clinical Considerations:**\n",
        "   - Assess the severity of the client’s symptoms and their impact on daily functioning.\n",
        "   - Evaluate current coping mechanisms and discuss possible adjustments, such as exploring grounding techniques or changes in routine.\n",
        "\n",
        "4. **Intervention Planning:**\n",
        "   - Suggest small, actionable strategies (e.g., relaxation techniques, sleep hygiene practices) tailored to the client’s needs.\n",
        "   - Emphasize normalization of their experience while introducing grounding tools to help in the moment.\n",
        "\n",
        "5. **Reinforce Strengths and Support Progress:**\n",
        "   - Highlight the client’s willingness to address their concerns as a sign of resilience.\n",
        "   - Encourage them to take incremental steps and affirm their progress, emphasizing their ability to regain control over their situation.\n",
        "\n",
        "---\n",
        "\n",
        "## **Step 4: Initial Response**\n",
        "- Reassure the client that you are here to support them.\n",
        "- Acknowledge and validate their feelings.\n",
        "- Encourage them to share more about their emotions, experiences, and potential causes of distress.\n",
        "\n",
        "---\n",
        "\n",
        "## **Step 5: Continuous Engagement**\n",
        "- Keep the conversation engaging, warm, and focused on understanding the client’s perspective.\n",
        "- Use CoT to guide the discussion, focusing on:\n",
        "  - Why the client feels this way.\n",
        "  - How the situation developed.\n",
        "  - Underlying factors contributing to the issue.\n",
        "\n",
        "---\n",
        "\n",
        "## **Step 6: Review Your Response**\n",
        "- Before responding, verify that your reply aligns with the above steps.\n",
        "- Ensure your tone is empathetic, your language is clear, and your approach is tailored to the client’s needs.\n",
        "\n",
        "---\n",
        "\n",
        "# Examples\n",
        "\n",
        "## **Example 1**\n",
        "**Input:** \"My anxiety is getting worse and I can't sleep at night. My mind just won't shut off.\"\n",
        "\n",
        "## Thought Process:\n",
        "\n",
        "### Symptom Analysis\n",
        "- **Primary complaint:** Worsening anxiety\n",
        "- **Secondary issue:** Sleep disturbance\n",
        "- **Possible rumination patterns**\n",
        "- **Potential feedback loop** between anxiety and insomnia\n",
        "\n",
        "### Clinical Considerations\n",
        "- **Need to assess severity of anxiety**\n",
        "- **Explore impact on daily functioning**\n",
        "- **Consider sleep hygiene practices**\n",
        "- **Evaluate existing coping mechanisms**\n",
        "\n",
        "### Intervention Planning\n",
        "- **Focus on validation and normalization**\n",
        "- **Explore thought patterns during sleepless periods**\n",
        "- **Consider introducing grounding techniques**\n",
        "- **Prepare to discuss sleep hygiene if appropriate**\n",
        "\n",
        "### Risk Assessment\n",
        "- **Monitor for signs of severe anxiety**\n",
        "- **Assess impact on basic functioning**\n",
        "- **Consider referral needs for sleep specialist**\n",
        "- **Evaluate support system availability**\n",
        "\n",
        "**Response:** \"\n",
        "\n",
        "Thank you for sharing this with me. It sounds like your anxiety has been really difficult to manage lately, especially with the added challenge of not being able to sleep. I can imagine how exhausting it must feel when your mind just won’t shut off at night.\n",
        "\n",
        "Your experience is valid, and it’s common for anxiety and sleeplessness to form a cycle—when anxiety keeps you awake, the lack of sleep can then intensify those anxious feelings. Let’s work on breaking that cycle together.\n",
        "\n",
        "Can you tell me more about what tends to run through your mind during those sleepless nights? For example, are there specific worries or thoughts that feel persistent? Understanding these patterns might help us find ways to redirect or calm them.\n",
        "\n",
        "It might also be helpful to explore what your evenings typically look like. Have you tried any relaxation techniques or changes to your nighttime routine? Small adjustments, like a consistent wind-down routine or grounding exercises, can sometimes make a big difference.\n",
        "\n",
        "Remember, you don’t have to go through this alone. The fact that you’re reaching out shows your commitment to addressing this, which is an important step. Let’s take it one step at a time, and we’ll work together to find strategies that help you regain a sense of calm and restfulness.\n",
        "\n",
        "Take your time, and let me know what feels most pressing for you right now.\"\n",
        "\n",
        "---\n",
        "\n",
        "## **Example 2**\n",
        "**Input:** \"I’ve been having persistent arguments with my partner.\"\n",
        "\n",
        "## Thought Process\n",
        "\n",
        "### **Symptom Analysis**\n",
        "- **Primary Complaint:** Persistent arguments with the partner.\n",
        "- **Secondary Issues:** Emotional distress, potential impact on overall mood and relationship dynamics.\n",
        "- **Possible Rumination Patterns:** Client may be dwelling on conflicts or feeling stuck in unproductive cycles of disagreement.\n",
        "- **Feedback Loops:** Stress from arguments may contribute to heightened emotions, leading to further conflicts.\n",
        "\n",
        "### **Clinical Considerations**\n",
        "- Assess how frequent and intense the arguments are.\n",
        "- Explore the emotional and mental toll of the conflicts on the client’s daily life.\n",
        "- Evaluate communication patterns or potential misunderstandings in the relationship.\n",
        "- Understand existing coping mechanisms the client uses during or after arguments.\n",
        "\n",
        "### **Intervention Planning**\n",
        "- **Validation and Normalization:** Acknowledge that arguments are a normal part of relationships but can feel overwhelming when persistent.\n",
        "- **Explore Thought Patterns:** Discuss the client’s feelings and perceptions during conflicts.\n",
        "- **Introduce Communication Techniques:** Suggest strategies like active listening, de-escalation, or “I” statements to foster better understanding.\n",
        "- **Discuss Relationship Dynamics:** Uncover recurring themes in conflicts and identify opportunities for collaborative problem-solving.\n",
        "\n",
        "### **Risk Assessment**\n",
        "- Monitor for signs of severe emotional distress or feelings of isolation.\n",
        "- Assess whether arguments are impacting the client’s sense of safety or security in the relationship.\n",
        "- Consider referral to couples counseling or therapy for additional support.\n",
        "- Evaluate the client’s existing support system and their accessibility.\n",
        "\n",
        "**Response:**\n",
        "\n",
        "I can sense that the constant arguing with your partner has been taking a toll on you, and it's great that you're taking the first step by talking about it.\n",
        "\n",
        "Now, let's see if we can break it down a bit further.\n",
        "What are some common themes or topics that tend to lead to disagreements? Are there any specific incidents or conversations that have felt particularly challenging or overwhelming? By exploring these questions, we can start to identify some patterns and dynamics that might be contributing to these conflicts.\n",
        "\n",
        "From there, we can start to work on finding ways to communicate more effectively and manage your emotions during disagreements. For example, we could talk about taking a break when things start to feel heated, or practicing empathy and understanding to try to see things from your partner's perspective.\n",
        "\n",
        "What feels like the most important thing for you to focus on right now? Is it finding ways to reduce the frequency or intensity of these arguments, or is it more about learning how to repair and reconnect with your partner after a conflict?\n",
        "\n",
        "You’re already taking a positive step by addressing this and expressing your feelings. That shows a strong commitment to improving your relationship. What’s one small change you’d like to focus on first to make these conversations with your partner feel a bit easier or more productive?\n",
        "\n",
        "Take your time to think this over, and let me know what feels most pressing to you right now. I’m here to support you through this.\n",
        "\"\"\""
      ],
      "metadata": {
        "id": "ItZeeCoiNLam"
      },
      "execution_count": null,
      "outputs": []
    },
    {
      "cell_type": "markdown",
      "metadata": {
        "id": "oEMSU5_ejods"
      },
      "source": [
        "---\n",
        "## LLM-as-a-judge Evaluation\n",
        "####1. **individual evalaution prompt**\n",
        "* musabalsaifi/individual-evaluation-prompt\n",
        "\n",
        "####2. **Pairwise evaltuatoin prompt**\n",
        "* musabalsaifi/evaluator-prompt"
      ]
    },
    {
      "cell_type": "markdown",
      "source": [
        "---\n",
        "### Evaluation Criteria\n",
        "\n",
        "### **Critical Criteria (48 possible points)**\n",
        "Missing any Critical criterion or scoring 0 on any Critical criterion results in a total score of 0.\n",
        "\n",
        "### 1. Empathy\n",
        "- 0: Shows no empathy or understanding\n",
        "- 1: Makes superficial empathetic statements without real connection\n",
        "- 2: Demonstrates basic understanding of client's emotions\n",
        "- 3: Shows clear empathetic understanding with specific reflections\n",
        "- 4: Exhibits deep empathetic connection with nuanced emotional awareness\n",
        "\n",
        "### 2. Emotional Validation\n",
        "- 0: Invalidates or dismisses emotions\n",
        "- 1: Minimal acknowledgment of emotions\n",
        "- 2: Basic validation of primary emotions\n",
        "- 3: Clear validation with specific acknowledgment\n",
        "- 4: Deep validation showing understanding of complex emotional states\n",
        "\n",
        "### 3. Client-Centered Approach\n",
        "- 0: Directive or controlling approach\n",
        "- 1: Minimal focus on client's perspective\n",
        "- 2: Basic client-centered responses\n",
        "- 3: Consistent focus on client's needs and perspective\n",
        "- 4: Exceptional attunement to client's needs with appropriate guidance\n",
        "\n",
        "### 4. Supportiveness\n",
        "- 0: Unsupportive or judgmental\n",
        "- 1: Minimal support offered\n",
        "- 2: Basic supportive statements\n",
        "- 3: Clear, consistent support throughout\n",
        "- 4: Creates highly supportive environment with nuanced reinforcement\n",
        "\n",
        "### 5. Professional Tone\n",
        "- 0: Inappropriate or unprofessional\n",
        "- 1: Inconsistent professionalism\n",
        "- 2: Maintains basic professional tone\n",
        "- 3: Clear, consistent professional manner\n",
        "- 4: Exemplary professional presence while maintaining warmth\n",
        "\n",
        "### 6. Active Listening\n",
        "- 0: No evidence of listening\n",
        "- 1: Minimal response to client statements\n",
        "- 2: Basic reflection of content\n",
        "- 3: Clear demonstration of careful listening\n",
        "- 4: Advanced listening with integration of multiple cues\n",
        "\n",
        "### 7. Crisis Management\n",
        "- 0: Fails to recognize/address crisis\n",
        "- 1: Minimal crisis awareness\n",
        "- 2: Basic crisis response\n",
        "- 3: Effective crisis management\n",
        "- 4: Exceptional crisis handling with appropriate resources\n",
        "\n",
        "### 8. Non-Judgmental Attitude\n",
        "- 0: Judgmental or critical\n",
        "- 1: Occasionally judgmental\n",
        "- 2: Basic non-judgmental stance\n",
        "- 3: Consistently non-judgmental\n",
        "- 4: Creates deeply accepting atmosphere\n",
        "\n",
        "### 9. Flexibility\n",
        "- 0: Rigid or inflexible\n",
        "- 1: Limited adaptability\n",
        "- 2: Basic adaptation to client needs\n",
        "- 3: Clear flexibility in approach\n",
        "- 4: Highly adaptable while maintaining structure\n",
        "\n",
        "### 10. Questioning Technique\n",
        "- 0: Inappropriate or no questions\n",
        "- 1: Basic closed questions only\n",
        "- 2: Mix of open and closed questions\n",
        "- 3: Skillful use of various questions\n",
        "- 4: Masterful questioning that deepens exploration\n",
        "\n",
        "### 11. Unconditional Positive Regard\n",
        "- 0: Conditional or negative regard\n",
        "- 1: Minimal positive regard\n",
        "- 2: Basic acceptance shown\n",
        "- 3: Clear unconditional positive regard\n",
        "- 4: Deep, genuine acceptance and warmth\n",
        "\n",
        "### 12. Reflection and Mirroring\n",
        "- 0: No reflection present\n",
        "- 1: Basic repetition only\n",
        "- 2: Accurate reflection of content\n",
        "- 3: Skilled reflection of content and emotion\n",
        "- 4: Advanced reflection leading to insights\n",
        "\n",
        "## **Valuable Criteria (44 possible points)**\n",
        "Must meet at least 8 Valuable criteria with scores above 0 for valid evaluation.\n",
        "\n",
        "### 1. Depth of Exploration\n",
        "- 0: Superficial or absent\n",
        "- 1: Minimal exploration\n",
        "- 2: Basic depth\n",
        "- 3: Clear depth of exploration\n",
        "- 4: Profound exploration of themes\n",
        "\n",
        "### 2. Clarity and Coherence\n",
        "- 0: Unclear or confusing\n",
        "- 1: Minimal clarity\n",
        "- 2: Basic clarity\n",
        "- 3: Clear and well-structured\n",
        "- 4: Exceptional clarity and organization\n",
        "\n",
        "### 3. Tailored Feedback\n",
        "- 0: Generic or inappropriate\n",
        "- 1: Minimally personalized\n",
        "- 2: Basic personalization\n",
        "- 3: Clear personalization\n",
        "- 4: Highly tailored approach\n",
        "\n",
        "### 4. Cultural Sensitivity\n",
        "- 0: Culturally insensitive\n",
        "- 1: Minimal awareness\n",
        "- 2: Basic cultural awareness\n",
        "- 3: Clear cultural competence\n",
        "- 4: Advanced cultural integration\n",
        "\n",
        "### 5. Encouragement of Autonomy\n",
        "- 0: Directive or controlling\n",
        "- 1: Minimal encouragement\n",
        "- 2: Basic support of autonomy\n",
        "- 3: Clear promotion of independence\n",
        "- 4: Exceptional empowerment\n",
        "\n",
        "### 6. Positive Reinforcement\n",
        "- 0: No reinforcement\n",
        "- 1: Minimal reinforcement\n",
        "- 2: Basic reinforcement\n",
        "- 3: Effective reinforcement\n",
        "- 4: Skilled, timely reinforcement\n",
        "\n",
        "### 7. Therapeutic Pacing\n",
        "- 0: Inappropriate pacing\n",
        "- 1: Minimal pacing awareness\n",
        "- 2: Basic pacing\n",
        "- 3: Well-managed pacing\n",
        "- 4: Exceptional timing and flow\n",
        "\n",
        "### 8. Reflective Summarization\n",
        "- 0: No summarization\n",
        "- 1: Minimal summary\n",
        "- 2: Basic summary\n",
        "- 3: Clear, effective summary\n",
        "- 4: Comprehensive, insightful summary\n",
        "\n",
        "### 9. Collaboration\n",
        "- 0: No collaboration\n",
        "- 1: Minimal collaboration\n",
        "- 2: Basic collaborative approach\n",
        "- 3: Clear collaborative stance\n",
        "- 4: Deep collaborative partnership\n",
        "\n",
        "### 10. Consistency\n",
        "- 0: Inconsistent\n",
        "- 1: Minimal consistency\n",
        "- 2: Basic consistency\n",
        "- 3: Clear consistency\n",
        "- 4: Exceptional consistency\n",
        "\n",
        "### 11. Evidence-Based Techniques\n",
        "- 0: No technique use\n",
        "- 1: Minimal technique use\n",
        "- 2: Basic technique application\n",
        "- 3: Clear technique integration\n",
        "- 4: Masterful technique use\n",
        "\n",
        "## Final Scoring\n",
        "Total Possible Points: 96 (48 Critical + 44 Valuable + 4 Optional)\n",
        "- 90-96: Exceptional Response\n",
        "- 80-89: Strong Response\n",
        "- 70-79: Competent Response\n",
        "- 60-69: Adequate Response\n",
        "- Below 60: Needs Improvement\n",
        "- 0: Invalid Response (if any Critical criterion scores 0 or fewer than 8 Valuable criteria are met)\n",
        "\n",
        "## **Optional Criteria (4 possible points)**\n",
        "### 1. Appropriate Humor\n",
        "- 0: Inappropriate or harmful humor\n",
        "- 1: Minimal appropriate humor\n",
        "- 2: Basic appropriate humor\n",
        "- 3: Effective use of humor\n",
        "- 4: Masterful integration of humor"
      ],
      "metadata": {
        "id": "LcAFjTxu-PsW"
      }
    },
    {
      "cell_type": "markdown",
      "metadata": {
        "id": "5buKVm_DkJi8"
      },
      "source": [
        "---\n",
        "### Individual Evaluator"
      ]
    },
    {
      "cell_type": "code",
      "execution_count": null,
      "metadata": {
        "id": "XfqtrGntlOID"
      },
      "outputs": [],
      "source": [
        "from langchain import hub\n",
        "from langsmith.schemas import Example, Run\n",
        "from langchain_core.prompts import ChatPromptTemplate\n",
        "from pydantic.v1 import BaseModel, Field\n",
        "\n",
        "def answer_evaluator(runs: Run, example: Example) -> dict:\n",
        "    \"\"\"Evaluate each model individually using gpt-4o\"\"\"\n",
        "\n",
        "    # Input text from the dataset\n",
        "    input_text = example.inputs[\"Context\"]\n",
        "\n",
        "    # Output text from the model\n",
        "    prediction = runs.outputs[\"answer\"]\n",
        "\n",
        "    # Data model for grade\n",
        "\n",
        "    class GradeSummary (BaseModel):\n",
        "        \"\"\"A numerical score for summary quality.\"\"\"\n",
        "        score: int = Field(description=\"Answer meets criteria, score from 0 to 96\")\n",
        "        feedback: str = Field(description=\"List the criteria that are not met\")\n",
        "\n",
        "\n",
        "    llm = ChatOpenAI (model=\"gpt-4o-mini\", temperature=0)\n",
        "    structured_llm_grader = llm.with_structured_output(GradeSummary)\n",
        "    grade_prompt = hub.pull(\"musabalsaifi/individual-evaluation-prompt\")\n",
        "\n",
        "    answer_grader = grade_prompt | structured_llm_grader\n",
        "    score = answer_grader.invoke({\"prediction\": prediction})\n",
        "\n",
        "    return {\"key\": \"summary_engagement_score\", \"score\": int(score.score), \"feedback\": score.feedback}\n",
        "\n"
      ]
    },
    {
      "cell_type": "markdown",
      "metadata": {
        "id": "gPuuMk8BkSba"
      },
      "source": [
        "### Pairwise Evaluator\n"
      ]
    },
    {
      "cell_type": "code",
      "execution_count": null,
      "metadata": {
        "id": "3eu-q48qych5"
      },
      "outputs": [],
      "source": [
        "from langchain import hub\n",
        "from langsmith.evaluation import evaluate_comparative\n",
        "from langchain_core.prompts import PromptTemplate\n",
        "from langsmith.schemas import Run, Example\n",
        "from langchain_core.output_parsers import StrOutputParser\n",
        "\n",
        "def evaluate_pairwise(runs: list[Run], example: Example) -> dict:\n",
        "    \"\"\"Evaluate and score two models using GPT-4o-mini\"\"\"\n",
        "\n",
        "    scores = {}\n",
        "    for i, run in enumerate(runs):\n",
        "        scores[run.id] = i\n",
        "\n",
        "    answer_a = runs[0].outputs.get(\"answer\", \"N/A\")\n",
        "    answer_b = runs[1].outputs.get(\"answer\", \"N/A\")\n",
        "\n",
        "    prompt = hub.pull(\"musabalsaifi/evaluator-prompt\")\n",
        "    llm = ChatOpenAI(model=\"gpt-4o\", temperature=0)\n",
        "\n",
        "    runnable = prompt | llm\n",
        "    response = runnable.invoke({\n",
        "        \"question\": example.inputs.get(\"Context\", \"\"),\n",
        "        \"answer_a\": answer_a,\n",
        "        \"answer_b\": answer_b\n",
        "    })\n",
        "\n",
        "    score = response[\"Preference\"]\n",
        "    feedback = response[\"Feedback\"]\n",
        "    if score == 1:\n",
        "        scores[runs[0].id] = 1\n",
        "        scores[runs[1].id] = 0\n",
        "    elif score == 2:\n",
        "        scores[runs[0].id] = 0\n",
        "        scores[runs[1].id] = 1\n",
        "    else:\n",
        "        scores[runs[0].id] = 0\n",
        "        scores[runs[1].id] = 0\n",
        "\n",
        "    return {\"key\": \"ranked_preference\", \"feedback\": feedback, \"scores\": scores}\n"
      ]
    },
    {
      "cell_type": "markdown",
      "metadata": {
        "id": "pCkJK8-8r48o"
      },
      "source": [
        "## Evaluation Process"
      ]
    },
    {
      "cell_type": "code",
      "execution_count": null,
      "metadata": {
        "id": "IJsq3-JgMb4h"
      },
      "outputs": [],
      "source": [
        "from langchain import hub\n",
        "from langsmith import Client\n",
        "from langchain_groq import ChatGroq\n",
        "from langchain_openai import OpenAI, ChatOpenAI\n",
        "from langchain.agents import AgentExecutor, create_react_agent\n",
        "from langchain.prompts import ChatPromptTemplate\n",
        "from langsmith.evaluation import evaluate, evaluate_comparative"
      ]
    },
    {
      "cell_type": "code",
      "execution_count": null,
      "metadata": {
        "id": "vHko7bh6_aGM"
      },
      "outputs": [],
      "source": [
        "groq_client = ChatGroq(api_key=GROQ_API_KEY)\n",
        "openai_client = OpenAI(api_key=OPENAI_API_KEY)\n",
        "langsmith_client = Client(api_key=LANGSMITH_API_KEY)\n",
        "dataset_name = \"therapy-questions\""
      ]
    },
    {
      "cell_type": "markdown",
      "source": [
        "#### Prompts Evaluation Function"
      ],
      "metadata": {
        "id": "Cua0O8xJxXUX"
      }
    },
    {
      "cell_type": "code",
      "source": [
        "# List of the prompts to evaluate\n",
        "prompts_list = [std_prmopt, initial_prompt, steps_prompt, cot_prompt, fs_cot_prompt]\n",
        "\n",
        "def prompts_evaluation(prompt_list = prompts_list):\n",
        "    # Run evaluation on every prompt in the list\n",
        "    prompts_names = [name for name in globals() if globals()[name] in prompts_list]\n",
        "\n",
        "    for idx, prompt in enumerate(prompts_list):\n",
        "        prompt = ChatPromptTemplate.from_messages([(\"system\", prompt), (\"human\", \"{input}\")])\n",
        "\n",
        "        prefix = \"gpt-4o-mini-\" + prompts_names[idx]\n",
        "        print(f\"\\nEvaluating {prefix}...\")\n",
        "        model = CreateApp(\n",
        "            client=openai_client,\n",
        "            prompt=prompt,\n",
        "            model=\"gpt-4o-mini\",\n",
        "        )\n",
        "\n",
        "        # Retrieve the data split named 'test'\n",
        "        dataset = langsmith_client.list_examples(dataset_name=dataset_name, splits=[\"test\"])\n",
        "\n",
        "        # Evaluate my fine-tuned model\n",
        "        results = evaluate(\n",
        "            model.predict, # The model instance\n",
        "            data=dataset, # The data to predict and grade over\n",
        "            evaluators=[answer_evaluator], # The evaluators to score the results\n",
        "            experiment_prefix=prefix, # A prefix for experiment names to easily identify them\n",
        "            # num_repetitions=2\n",
        "        )\n",
        "        experiments_names.append(results.experiment_name)\n",
        "        print(f\"\\nEvaluating {prefix} finished\")"
      ],
      "metadata": {
        "id": "RqAkcr0OgrUf"
      },
      "execution_count": null,
      "outputs": []
    },
    {
      "cell_type": "markdown",
      "source": [
        "#### Models Evaluation Function"
      ],
      "metadata": {
        "id": "4odFEmNWxdOM"
      }
    },
    {
      "cell_type": "code",
      "execution_count": null,
      "metadata": {
        "collapsed": true,
        "id": "i2f6Mep7r0Bm"
      },
      "outputs": [],
      "source": [
        "# List of the models to evaluate\n",
        "models_list = [FT_MODEL, \"gpt-4o-mini\", \"llama3-8b-8192\", 'mixtral-8x7b-32768', 'gemma2-9b-it']\n",
        "\n",
        "def individual_models_evaluation(models_list = models_list):\n",
        "    prompt = ChatPromptTemplate.from_messages([(\"system\", fs_cot_prompt), (\"human\", \"{input}\")])\n",
        "\n",
        "    for idx, model in enumerate(models_list):\n",
        "        print(f\"\\nEvaluating {model}...\")\n",
        "\n",
        "        # create app instance for OpenAI models\n",
        "        if idx == 0 or idx == 1:\n",
        "            prefix = \"ft-model\" if model == 0 else \"mini-model\"\n",
        "            model = CreateApp(\n",
        "                client=openai_client,\n",
        "                prompt=prompt,\n",
        "                model=model\n",
        "            )\n",
        "\n",
        "        # create app instance for Groq models\n",
        "        else:\n",
        "            # Extract short version of the model name\n",
        "            prefix = model[:model.rfind(\"-\")]\n",
        "            model = CreateApp(\n",
        "                client=groq_client,\n",
        "                prompt=prompt,\n",
        "                model=model\n",
        "            )\n",
        "\n",
        "        # Retrieve the data split named 'test'\n",
        "        dataset = langsmith_client.list_examples(dataset_name=dataset_name, splits=[\"test\"])\n",
        "\n",
        "        # Evaluate my fine-tuned model\n",
        "        results = evaluate(\n",
        "            model.predict, # The model instance\n",
        "            data=dataset, # The data to predict and grade over\n",
        "            evaluators=[answer_evaluator], # The evaluators to score the results\n",
        "            experiment_prefix=prefix, # A prefix for experiment names to easily identify them\n",
        "            # num_repetitions=2\n",
        "        )\n",
        "        experiments_names.append(results.experiment_name)\n",
        "        print(f\"\\nEvaluating {model} finished\")"
      ]
    },
    {
      "cell_type": "markdown",
      "metadata": {
        "id": "qmX2n9Aqe3K1"
      },
      "source": [
        "### Run Evaluators"
      ]
    },
    {
      "cell_type": "code",
      "source": [
        "def pairwise_evaluation(experiments_names):\n",
        "    for exp in experiments_names[1:]:\n",
        "        baseline = experiments_names[0]\n",
        "\n",
        "        print(f\"\\nEvaluating {baseline} vs. {exp}\")\n",
        "\n",
        "        evaluate_comparative(\n",
        "            [baseline, exp],\n",
        "            evaluators=[evaluate_pairwise],\n",
        "            max_concurrency=3,\n",
        "        )"
      ],
      "metadata": {
        "id": "vCgn6UaCzqGe"
      },
      "execution_count": null,
      "outputs": []
    },
    {
      "cell_type": "markdown",
      "source": [
        "#### Prompts Evaluation"
      ],
      "metadata": {
        "id": "2D8qEEmE2Fcb"
      }
    },
    {
      "cell_type": "code",
      "execution_count": null,
      "metadata": {
        "collapsed": true,
        "id": "26Y8xIYhe2qp"
      },
      "outputs": [],
      "source": [
        "experiments_names = []\n",
        "prompts_evaluation()\n",
        "pairwise_evaluation(experiments_names)"
      ]
    },
    {
      "cell_type": "markdown",
      "source": [
        "#### Models Evaluation"
      ],
      "metadata": {
        "id": "85MVONTN2aXP"
      }
    },
    {
      "cell_type": "code",
      "source": [
        "experiments_names = []\n",
        "individual_models_evaluation()\n",
        "pairwise_evaluation(experiments_names)"
      ],
      "metadata": {
        "id": "k5XDzjue1ZWM"
      },
      "execution_count": null,
      "outputs": []
    },
    {
      "cell_type": "markdown",
      "source": [
        "### Evaluation Results"
      ],
      "metadata": {
        "id": "kLV-SDC524sy"
      }
    },
    {
      "cell_type": "markdown",
      "source": [
        "#### Prompts Performance Comaprison"
      ],
      "metadata": {
        "id": "7dgpU1JZ3DzE"
      }
    },
    {
      "cell_type": "code",
      "source": [
        "import matplotlib.pyplot as plt\n",
        "\n",
        "x = [\"Standard\", \"Initial\", \"Steps\", \"CoT\", \"CoT-Few-Shot\"]\n",
        "min_values = [20, 36, 84, 84, 84]\n",
        "avg_values = [70.75, 83.2, 87.2, 87.3, 87.45]\n",
        "max_values = [80, 84, 88, 92, 92]\n",
        "\n",
        "colors = ['#4F81BD', '#C0504D', '#9BBB59']\n",
        "\n",
        "plt.figure(figsize=(10, 6))\n",
        "\n",
        "plt.plot(x, min_values, label='Min', marker='o', linestyle='--', color=colors[0], linewidth=2)\n",
        "plt.plot(x, avg_values, label='Avg', marker='o', linestyle='-', color=colors[1], linewidth=2)\n",
        "plt.plot(x, max_values, label='Max', marker='o', linestyle='-.', color=colors[2], linewidth=2)\n",
        "\n",
        "plt.title('Prompts Evaluation Results (GPT-4o-Mini)', fontsize=16, fontweight='bold', pad=15)\n",
        "plt.xlabel('Prompts', fontsize=12, labelpad=10, fontweight='bold')\n",
        "plt.ylabel('Evaluation Score / 96', fontsize=12, labelpad=10, fontweight='bold')\n",
        "\n",
        "plt.legend(title=\"Scores\", fontsize=10, title_fontsize=12, loc='lower right')\n",
        "\n",
        "plt.grid(True, linestyle='--', alpha=0.6)\n",
        "\n",
        "plt.xticks(fontsize=10)\n",
        "plt.yticks(fontsize=10)\n",
        "\n",
        "plt.tight_layout()\n",
        "plt.show()"
      ],
      "metadata": {
        "colab": {
          "base_uri": "https://localhost:8080/",
          "height": 607
        },
        "id": "n2ValJBQ3CS8",
        "outputId": "14119736-b5b8-425e-845a-6009b0ea90a2"
      },
      "execution_count": null,
      "outputs": [
        {
          "output_type": "display_data",
          "data": {
            "text/plain": [
              "<Figure size 1000x600 with 1 Axes>"
            ],
            "image/png": "[encoded data removed]"
          },
          "metadata": {}
        }
      ]
    },
    {
      "cell_type": "code",
      "source": [
        "import matplotlib.pyplot as plt\n",
        "import numpy as np\n",
        "\n",
        "# Data\n",
        "models = ['Standard', 'Initial', 'Steps', 'CoT']\n",
        "our_model_wins = [20, 20, 20, 13]\n",
        "ties = [0, 0, 0, 7]\n",
        "\n",
        "# Labels and colors\n",
        "labels = ['CoT-Few-Shot Wins', 'Ties']\n",
        "colors = ['#4F81BD', '#9BBB59']\n",
        "\n",
        "# Grouped bar chart\n",
        "fig, ax = plt.subplots(figsize=(10, 6))\n",
        "\n",
        "# Number of bars\n",
        "n_models = len(models)\n",
        "n_categories = len(labels)\n",
        "\n",
        "# Width of a bar\n",
        "bar_width = 0.35\n",
        "\n",
        "# Create an array for the x positions of the bars\n",
        "x = np.arange(n_models)\n",
        "\n",
        "# Plot each category as a separate bar\n",
        "bars = []\n",
        "for i, (label, wins, color) in enumerate(zip(labels, [our_model_wins, ties], colors)):\n",
        "    bars.append(ax.bar(x + i * bar_width, wins, width=bar_width, label=label, color=color))\n",
        "\n",
        "# Customizing chart\n",
        "ax.set_xlabel('Prompts', fontsize=12, labelpad=10, fontweight='bold')\n",
        "ax.set_ylabel('Number of Questions', fontsize=12, labelpad=10, fontweight='bold')\n",
        "ax.set_title('Pair-Wise Evaluation: CoT-Few-Shot vs Other Prompts', fontsize=14, fontweight='bold')\n",
        "ax.set_xticks(x + bar_width / 2)\n",
        "ax.set_xticklabels(models, fontsize=10)\n",
        "ax.legend(title='Outcome', loc='upper right', fontsize=10)\n",
        "\n",
        "# Add value annotations to each bar\n",
        "for i in range(n_models):\n",
        "    for j, bar in enumerate(bars):\n",
        "        height = bar[i].get_height()\n",
        "        if height > 0:\n",
        "            ax.annotate(\n",
        "                f'{height}',\n",
        "                (bar[i].get_x() + bar[i].get_width() / 2, height),\n",
        "                ha='center',\n",
        "                va='bottom',\n",
        "                fontsize=10,\n",
        "                color='black',\n",
        "                weight='bold'\n",
        "            )\n",
        "\n",
        "# Add grid lines for better readability\n",
        "ax.yaxis.grid(True, linestyle='--', alpha=0.7)\n",
        "\n",
        "# Adjust layout\n",
        "# plt.tight_layout(rect=[0, 0.05, 1, 1])\n",
        "\n",
        "# Show the plot\n",
        "plt.show()"
      ],
      "metadata": {
        "colab": {
          "base_uri": "https://localhost:8080/",
          "height": 577
        },
        "id": "B5T1aOZG70lI",
        "outputId": "5ac61971-36e8-4a10-af6c-67fae3ffd00f"
      },
      "execution_count": null,
      "outputs": [
        {
          "output_type": "display_data",
          "data": {
            "text/plain": [
              "<Figure size 1000x600 with 1 Axes>"
            ],
            "image/png": "[encoded data removed]"
          },
          "metadata": {}
        }
      ]
    },
    {
      "cell_type": "markdown",
      "source": [
        "#### Models Performance Comparison\n"
      ],
      "metadata": {
        "id": "4BBZXS223L6R"
      }
    },
    {
      "cell_type": "code",
      "source": [
        "import matplotlib.pyplot as plt\n",
        "import numpy as np\n",
        "\n",
        "# Data\n",
        "models = ['gpt-4o-mini', 'llama3-7b', 'mistral-7b', 'gemma2-9b']\n",
        "our_model_wins = [4, 12, 10, 17]\n",
        "other_model_wins = [8, 6, 5, 2]\n",
        "ties = [8, 2, 5, 1]\n",
        "\n",
        "# Labels and Colors\n",
        "labels = ['Our Model Wins', 'Other Model Wins', 'Ties']\n",
        "colors = ['#4F81BD', '#C0504D', '#9BBB59']\n",
        "\n",
        "# Number of models\n",
        "n_models = len(models)\n",
        "n_categories = len(labels)\n",
        "\n",
        "# Width of a bar\n",
        "bar_width = 0.25\n",
        "\n",
        "# Create an array for the x positions of the bars\n",
        "x = np.arange(n_models)\n",
        "\n",
        "# Figure and Axes\n",
        "fig, ax = plt.subplots(figsize=(12, 8))\n",
        "\n",
        "# Plot each category as a separate bar\n",
        "bars = []\n",
        "for i, (label, wins, color) in enumerate(zip(labels, [our_model_wins, other_model_wins, ties], colors)):\n",
        "    bars.append(ax.bar(x + i * bar_width, wins, width=bar_width, label=label, color=color))\n",
        "\n",
        "# Add value annotations for each bar\n",
        "for i in range(n_models):\n",
        "    for j, bar in enumerate(bars):\n",
        "        height = bar[i].get_height()\n",
        "        if height > 0:\n",
        "            ax.annotate(\n",
        "                f'{height}',\n",
        "                (bar[i].get_x() + bar[i].get_width() / 2, height),\n",
        "                ha='center',\n",
        "                va='bottom',\n",
        "                fontsize=10,\n",
        "                color='black',\n",
        "                weight='bold'\n",
        "            )\n",
        "\n",
        "# Customizing Axes\n",
        "ax.set_xlabel('Models', fontsize=12, labelpad=10, fontweight='bold')\n",
        "ax.set_ylabel('Number of Questions', fontsize=12, labelpad=10, fontweight='bold')\n",
        "ax.set_title('Pair-Wise Evaluation: Fine-Tuned Model vs Base Models', fontsize=14, fontweight='bold', pad=20)\n",
        "ax.set_xticks(x + bar_width)\n",
        "ax.set_xticklabels(models, fontsize=10, rotation=45, ha='right')\n",
        "ax.legend(title='Results', loc='upper right', fontsize=10)\n",
        "\n",
        "# Add grid lines for better readability\n",
        "ax.yaxis.grid(True, linestyle='--', alpha=0.7)\n",
        "\n",
        "# Adjust layout\n",
        "plt.tight_layout(rect=[0, 0.03, 1, 0.95])\n",
        "\n",
        "# Show plot\n",
        "plt.show()"
      ],
      "metadata": {
        "colab": {
          "base_uri": "https://localhost:8080/",
          "height": 637
        },
        "id": "FBWsAnkDVA19",
        "outputId": "0083ab5e-a0e3-49a9-94a5-37fc35c4d0ad"
      },
      "execution_count": null,
      "outputs": [
        {
          "output_type": "display_data",
          "data": {
            "text/plain": [
              "<Figure size 1200x800 with 1 Axes>"
            ],
            "image/png": "[encoded data removed]"
          },
          "metadata": {}
        }
      ]
    },
    {
      "cell_type": "markdown",
      "metadata": {
        "id": "wTPoJ9YWImfs"
      },
      "source": [
        "# Generate synthatic data using GPT-4o\n"
      ]
    },
    {
      "cell_type": "code",
      "execution_count": null,
      "metadata": {
        "id": "0SayI_xn646J"
      },
      "outputs": [],
      "source": [
        "from langchain.smith import RunEvalConfig\n",
        "\n",
        "# Create model instance\n",
        "model = CreateApp(client=openai_client, prompt=cot_fs_prompt, model=\"gpt-4o\")\n",
        "eval_config = RunEvalConfig(evaluators=[answer_evaluator])\n",
        "dataset_name = \"synth-gen\"\n",
        "project_name = \"synth-data-generation\"\n",
        "\n",
        "\n",
        "test_results = langsmith_client.run_on_dataset(\n",
        "    dataset_name=dataset_name,\n",
        "    project_name=project_name,\n",
        "    llm_or_chain_factory=model.predict,\n",
        "    evaluation=eval_config\n",
        ")\n",
        "\n",
        "# Save the result as a csv file\n",
        "df = langsmith_client.get_test_results(project_name=project_name)\n",
        "df.to_csv(\"generated_data.csv\", index=False)"
      ]
    },
    {
      "cell_type": "markdown",
      "metadata": {
        "id": "LhPvelwIHaWI"
      },
      "source": [
        "# Graph RAG"
      ]
    },
    {
      "cell_type": "markdown",
      "metadata": {
        "id": "voG7Ai1THiA2"
      },
      "source": [
        "## Setup"
      ]
    },
    {
      "cell_type": "code",
      "execution_count": 4,
      "metadata": {
        "collapsed": true,
        "id": "VDi3O36fHPIW"
      },
      "outputs": [],
      "source": [
        "!pip install graphrag"
      ]
    },
    {
      "cell_type": "code",
      "execution_count": null,
      "metadata": {
        "id": "mvOtwEa2IVbA"
      },
      "outputs": [],
      "source": [
        "!mkdir -p /content/drive/MyDrive/rag-data"
      ]
    },
    {
      "cell_type": "markdown",
      "metadata": {
        "id": "uydoYvQkJzqt"
      },
      "source": [
        "## Extract text from pdf"
      ]
    },
    {
      "cell_type": "code",
      "execution_count": null,
      "metadata": {
        "id": "aW2zp7jaIByZ"
      },
      "outputs": [],
      "source": [
        "import fitz\n",
        "\n",
        "def extract_text_from_pdf(pdf_path):\n",
        "    text = \"\"\n",
        "    with fitz.open(pdf_path) as pdf_document:\n",
        "        num_pages = pdf_document.page_count\n",
        "        for page_num in range(num_pages):\n",
        "            page = pdf_document[page_num]\n",
        "            text += page.get_text()\n",
        "\n",
        "    with open(\"/content/drive/MyDrive/ragtest/input/book.txt\", \"w\") as f:\n",
        "        f.write(text)\n"
      ]
    },
    {
      "cell_type": "code",
      "execution_count": null,
      "metadata": {
        "id": "fgILtJtDKACy"
      },
      "outputs": [],
      "source": [
        "extract_text_from_pdf(\"/content/drive/MyDrive/rag-data/DIAGNOSTIC_AND_STATISTICAL_MANUAL_OF_MEN.pdf\")"
      ]
    },
    {
      "cell_type": "code",
      "execution_count": null,
      "metadata": {
        "colab": {
          "base_uri": "https://localhost:8080/"
        },
        "collapsed": true,
        "id": "YpPgclwQM4hd",
        "outputId": "9303209d-43de-400b-dd8a-1b68f64260c6"
      },
      "outputs": [
        {
          "name": "stdout",
          "output_type": "stream",
          "text": [
            "2024-09-08 15:16:28.161423: E external/local_xla/xla/stream_executor/cuda/cuda_fft.cc:485] Unable to register cuFFT factory: Attempting to register factory for plugin cuFFT when one has already been registered\n",
            "2024-09-08 15:16:28.558237: E external/local_xla/xla/stream_executor/cuda/cuda_dnn.cc:8454] Unable to register cuDNN factory: Attempting to register factory for plugin cuDNN when one has already been registered\n",
            "2024-09-08 15:16:28.668504: E external/local_xla/xla/stream_executor/cuda/cuda_blas.cc:1452] Unable to register cuBLAS factory: Attempting to register factory for plugin cuBLAS when one has already been registered\n",
            "2024-09-08 15:16:32.667228: W tensorflow/compiler/tf2tensorrt/utils/py_utils.cc:38] TF-TRT Warning: Could not find TensorRT\n",
            "\u001b[2KInitializing project at \u001b[35m/content/drive/MyDrive/\u001b[0m\u001b[95mragtest\u001b[0m\n",
            "⠋ GraphRAG Indexer "
          ]
        }
      ],
      "source": [
        "!python -m graphrag.index --init --root /content/drive/MyDrive/ragtest"
      ]
    },
    {
      "cell_type": "code",
      "execution_count": null,
      "metadata": {
        "colab": {
          "base_uri": "https://localhost:8080/"
        },
        "collapsed": true,
        "id": "cQWOUUlyodG8",
        "outputId": "6c4b92c3-6333-4598-8767-1a4f3d7d9096"
      },
      "outputs": [
        {
          "name": "stdout",
          "output_type": "stream",
          "text": [
            "2024-09-19 19:35:08.680520: E external/local_xla/xla/stream_executor/cuda/cuda_fft.cc:485] Unable to register cuFFT factory: Attempting to register factory for plugin cuFFT when one has already been registered\n",
            "2024-09-19 19:35:08.696068: E external/local_xla/xla/stream_executor/cuda/cuda_dnn.cc:8454] Unable to register cuDNN factory: Attempting to register factory for plugin cuDNN when one has already been registered\n",
            "2024-09-19 19:35:08.700233: E external/local_xla/xla/stream_executor/cuda/cuda_blas.cc:1452] Unable to register cuBLAS factory: Attempting to register factory for plugin cuBLAS when one has already been registered\n",
            "2024-09-19 19:35:09.947796: W tensorflow/compiler/tf2tensorrt/utils/py_utils.cc:38] TF-TRT Warning: Could not find TensorRT\n",
            "\n",
            "\n",
            "\n",
            "Loading Input (text).\n",
            "INFO: Detecting language...\n",
            "\n",
            "INFO: Generating persona...\n",
            "\n",
            "INFO: Generating community report ranking description...\n",
            "\n",
            "INFO: Generating entity relationship examples...\n",
            "\n",
            "INFO: Generating entity extraction prompt...\n",
            "\n",
            "INFO: Generating entity summarization prompt...\n",
            "\n",
            "INFO: Generating community reporter role...\n",
            "\n",
            "INFO: Generating community summarization prompt...\n",
            "\n",
            "INFO: Writing prompts to /content/drive/MyDrive/ragtest/prompts\n"
          ]
        }
      ],
      "source": [
        "!python -m graphrag.prompt_tune --root /content/drive/MyDrive/ragtest --config /content/drive/MyDrive/ragtest/settings.yaml --domain \"mental disorders\"  --no-entity-types --min-examples-required 3"
      ]
    },
    {
      "cell_type": "code",
      "execution_count": 5,
      "metadata": {
        "id": "qhYvCbktPkO5"
      },
      "outputs": [],
      "source": [
        "!python -m graphrag.index --root /content/drive/MyDrive/ragtest/"
      ]
    },
    {
      "cell_type": "code",
      "execution_count": null,
      "metadata": {
        "colab": {
          "base_uri": "https://localhost:8080/"
        },
        "id": "YoMrxNTQTwcW",
        "outputId": "b396abd3-6507-424b-ef37-87e10e05a51b"
      },
      "outputs": [
        {
          "name": "stdout",
          "output_type": "stream",
          "text": [
            "2024-10-16 12:38:32.242767: E external/local_xla/xla/stream_executor/cuda/cuda_fft.cc:485] Unable to register cuFFT factory: Attempting to register factory for plugin cuFFT when one has already been registered\n",
            "2024-10-16 12:38:32.270427: E external/local_xla/xla/stream_executor/cuda/cuda_dnn.cc:8454] Unable to register cuDNN factory: Attempting to register factory for plugin cuDNN when one has already been registered\n",
            "2024-10-16 12:38:32.278354: E external/local_xla/xla/stream_executor/cuda/cuda_blas.cc:1452] Unable to register cuBLAS factory: Attempting to register factory for plugin cuBLAS when one has already been registered\n",
            "2024-10-16 12:38:34.281715: W tensorflow/compiler/tf2tensorrt/utils/py_utils.cc:38] TF-TRT Warning: Could not find TensorRT\n",
            "\n",
            "\n",
            "creating llm client with {'api_key': 'REDACTED,len=95', 'type': \"openai_chat\", 'model': 'gpt-4o-mini', 'max_tokens': 4000, 'temperature': 0.0, 'top_p': 1.0, 'n': 1, 'request_timeout': 180.0, 'api_base': None, 'api_version': None, 'organization': None, 'proxy': None, 'cognitive_services_endpoint': None, 'deployment_name': None, 'model_supports_json': True, 'tokens_per_minute': 0, 'requests_per_minute': 0, 'max_retries': 10, 'max_retry_wait': 10.0, 'sleep_on_rate_limit_recommendation': True, 'concurrent_requests': 25}\n",
            "\n",
            "SUCCESS: Global Search Response:\n",
            "## Understanding Emotional Abuse\n",
            "\n",
            "Emotional abuse is a form of psychological manipulation that can have profound effects on individuals, particularly within family dynamics. It often manifests through behaviors that cause emotional pain, leading to distress and disruption in relationships. This type of abuse may include verbal attacks, constant criticism, or controlling behaviors that undermine a person's self-worth and emotional well-being.\n",
            "\n",
            "### Impact on Family Dynamics\n",
            "\n",
            "Emotional pain is a critical entity in family dynamics, representing distress that disrupts enjoyment and relationships among family members. Such pain can lead to conflicts or withdrawal, resulting in a breakdown of communication and connection. Addressing these issues is essential to restore harmony within the family unit [Data: Reports (80)].\n",
            "\n",
            "### Characteristics of Dysfunctional Relationships\n",
            "\n",
            "Dysfunctional relationships are often characterized by hostility, distancing behaviors, and unresolved conflicts. These symptoms contribute to a toxic family environment, making it crucial to understand the dynamics at play. Identifying pathways to healing and improving family cohesion is vital for overcoming the negative impacts of emotional abuse [Data: Reports (80)].\n",
            "\n",
            "### Communication Breakdown\n",
            "\n",
            "Ineffective communication is prevalent in dysfunctional relationships and significantly contributes to misunderstandings and conflicts. When family members struggle to express their thoughts and feelings, it can lead to a cycle of frustration and emotional pain. Improving communication skills is vital for breaking this cycle and enhancing the overall quality of family interactions [Data: Reports (80)].\n",
            "\n",
            "### Unresolved Conflicts\n",
            "\n",
            "Unresolved conflicts are a core characteristic of dysfunctional relationships, leading to ongoing distress and dysfunction within the family unit. If left unaddressed, these conflicts can create a toxic environment that hinders emotional growth and connection. Engaging in conflict resolution strategies is crucial for mitigating the impact of unresolved issues [Data: Reports (80)].\n",
            "\n",
            "### Life Cycle Changes\n",
            "\n",
            "Life cycle changes, such as transitions in family structure, can exacerbate existing dysfunction and lead to new conflicts. Events like marriage, divorce, or the arrival of a new child may challenge established dynamics and provoke emotional distress. Navigating these transitions effectively is essential to minimize the potential for emotional abuse and its repercussions [Data: Reports (80)].\n",
            "\n",
            "## Conclusion\n",
            "\n",
            "Emotional abuse is a complex issue that can significantly impact family dynamics and individual well-being. Understanding its manifestations, the characteristics of dysfunctional relationships, and the importance of effective communication and conflict resolution is crucial for addressing and healing from emotional abuse. By recognizing these factors, families may work towards restoring harmony and improving their overall emotional health.\n"
          ]
        }
      ],
      "source": [
        "!python -m graphrag.query \\\n",
        "--root /content/drive/MyDrive/ragtest/ \\\n",
        "--method global \\\n",
        "\"Give me related informations about emotional abuse\""
      ]
    },
    {
      "cell_type": "markdown",
      "metadata": {
        "id": "Yoo80OTschTo"
      },
      "source": [
        "# Custom Multi-Agents Architecture"
      ]
    },
    {
      "cell_type": "markdown",
      "metadata": {
        "id": "bEiaY6kc5-St"
      },
      "source": [
        "## ToDo"
      ]
    },
    {
      "cell_type": "code",
      "execution_count": null,
      "metadata": {
        "id": "kNFxXRmI6F9q"
      },
      "outputs": [],
      "source": [
        "# TODO: Implement GraphRAG and a vector store for the retrieved data\n",
        "# TODO: Implement Classifier with memory\n",
        "# TODO: Implement RAG"
      ]
    },
    {
      "cell_type": "markdown",
      "metadata": {
        "id": "ZSB1Yj1QPCO_"
      },
      "source": [
        "## Setup"
      ]
    },
    {
      "cell_type": "code",
      "execution_count": 6,
      "metadata": {
        "collapsed": true,
        "id": "L3ZdNAFEPA5P"
      },
      "outputs": [],
      "source": [
        "!pip install -U langchain langchain_openai langsmith openai langchain_community langgraph #graphrag #neo4j"
      ]
    },
    {
      "cell_type": "code",
      "execution_count": null,
      "metadata": {
        "id": "MpCbNsEjWMcw"
      },
      "outputs": [],
      "source": [
        "import json\n",
        "from typing import List, Literal, Optional\n",
        "\n",
        "import tiktoken\n",
        "from langchain_core.documents import Document\n",
        "from langchain_core.embeddings import Embeddings\n",
        "from langchain_core.messages import get_buffer_string\n",
        "from langchain_core.prompts import ChatPromptTemplate\n",
        "from langchain_core.runnables import RunnableConfig\n",
        "from langchain_core.tools import tool\n",
        "from langchain_core.vectorstores import InMemoryVectorStore\n",
        "from langchain_openai import ChatOpenAI\n",
        "from langchain_openai.embeddings import OpenAIEmbeddings\n",
        "from langgraph.checkpoint.memory import MemorySaver\n",
        "from langgraph.graph import END, START, MessagesState, StateGraph\n",
        "from langgraph.prebuilt import ToolNode"
      ]
    },
    {
      "cell_type": "markdown",
      "metadata": {
        "id": "44Xl_pzLNoUo"
      },
      "source": [
        "## Prompts"
      ]
    },
    {
      "cell_type": "code",
      "execution_count": null,
      "metadata": {
        "id": "QcG3oX38UsHS"
      },
      "outputs": [],
      "source": [
        "generator_prompt = \"\"\"\n",
        "You are a compassionate and professional therapist in a virtual therapy session. The user will be sharing with you feelings and problems they are going through.\n",
        "\n",
        "Use the following step-by-step for your response:\n",
        "\n",
        "Step 1 - Analyze the client’s language level and concerns carefully before responding.\n",
        "\n",
        "Step 2 - Your goal is to provide responses that should meet the following criteria:\n",
        "\t1.\tEmpathy: Show understanding and compassion for the individual’s emotions and experiences, recognizing their feelings genuinely.\n",
        "\t2.\tEmotional Validation: Acknowledge and affirm the emotions expressed by the individual, letting them know their feelings are valid and heard.\n",
        "\t3.\tClient-Centered Approach: Focus on the individual’s perspective, encouraging them to lead the conversation and engage in self-exploration.\n",
        "\t4.\tDepth of Exploration: Encourage the individual to delve deeper into their emotions and thoughts, helping them explore the root causes of their feelings.\n",
        "\t5.\tSupportiveness: Provide reassurance and create a safe, non-judgmental space where the individual feels comfortable expressing themselves openly.\n",
        "\t6.\tProfessional Tone: Maintain a professional, respectful, and appropriate tone that suits the context of therapy or support.\n",
        "\t7.\tActive Listening: Demonstrate attentive listening by reflecting or paraphrasing the individual’s key points to show understanding.\n",
        "\t8.\tClarity and Coherence: Ensure the response is clear, easy to understand, and structured, avoiding confusion or overly complex language.\n",
        "\t9.\tTailored Feedback: Offer personalized responses that address the individual’s specific situation, avoiding generic or one-size-fits-all advice.\n",
        "\t10.\tCultural Sensitivity: Show awareness and respect for the individual’s cultural background, beliefs, and values, avoiding assumptions or biases.\n",
        "\t11.\tEncouragement of Autonomy: Empower the individual to make their own decisions, fostering self-reliance and self-direction.\n",
        "\t12.\tCrisis Management: Recognize and address any signs of emotional distress or potential crises appropriately, providing immediate support if needed.\n",
        "\t13.\tReflection and Mirroring: Reflect the individual’s emotions and thoughts back to them, helping them feel understood and validated.\n",
        "\t14.\tPositive Reinforcement: Acknowledge and encourage positive behaviors, thoughts, or progress expressed by the individual, boosting their confidence.\n",
        "\t15.\tOpen-Ended Questions: Use open-ended questions to invite deeper exploration of feelings and thoughts, allowing for more meaningful reflection.\n",
        "\t16.\tNon-Judgmental Attitude: Maintain an open, non-judgmental tone that avoids criticism or assumptions, fostering a trusting environment.\n",
        "\t17.\tTherapeutic Pacing: Ensure the conversation moves at a comfortable pace for the individual, giving them time to process emotions without feeling rushed.\n",
        "\t18.\tReflective Summarization: Summarize the key points of the individual’s thoughts or feelings to ensure clarity and mutual understanding.\n",
        "\t19.\tCollaboration: Promote a collaborative approach where the individual feels they are working with the therapist to explore solutions and insights.\n",
        "\t20.\tConsistency: Ensure the response aligns with previous therapeutic goals and approaches, avoiding contradictions or mixed messages.\n",
        "\t21.\tUse of Evidence-Based Techniques: Incorporate established therapeutic methods (e.g., cognitive-behavioral therapy, mindfulness) in a way that suits the individual’s needs.\n",
        "\n",
        "Step 3 - Focus on the following points:\n",
        "\t1.\tYour first response should assure the user that you’re here for them and that you understand what they are going through.\n",
        "\t2.\tKeep the conversation engaging and maintain a warm and non-judgmental tone.\n",
        "\t3.\tExplore why the client is feeling this way, how they ended up in this situation, and uncover the root causes of their feelings and concerns.\n",
        "\t4.\tEncourage deeper exploration by asking reflective, open-ended questions to help the client find their own insights.\n",
        "\t5.\tGently challenge the client’s self-limiting thoughts and assumptions without judgment, creating space for them to explore their own solutions.\n",
        "\n",
        "Step 4 - After you respond, evaluate whether:\n",
        "\t1.\tYou provided empathy and validation effectively.\n",
        "\t2.\tThe conversation promotes exploration and deeper understanding.\n",
        "\t3.\tThe response is tailored to the client’s specific needs and encourages autonomy.\n",
        "\t4.\tYou facilitated the client’s own thought process and did not provide overly prescriptive advice.\n",
        "\t5.\tYou maintained a supportive and safe environment for them to explore their concerns.\n",
        "\"\"\""
      ]
    },
    {
      "cell_type": "code",
      "execution_count": null,
      "metadata": {
        "id": "zGTUjzQzR5e4"
      },
      "outputs": [],
      "source": [
        "generator = \"\"\"\n",
        "*Role*: You are a compassionate mental health professional in a virtual therapy session. The user will be sharing with you feelings and problems that they are going or went through.\n",
        "\n",
        "Use the following step-by-step for your response:\n",
        "\n",
        "# Step 1 - Analyse the client's language level and concerns carefully before answering.\n",
        "\n",
        "# Step 2 - Your goal is to provide responses that should meet the following criteria:\n",
        "\n",
        "1. **Empathy:** Exhibit understanding and compassion for the individual’s emotions, recognizing their feelings genuinely.\n",
        "2. **Emotional Validation:** Acknowledge and affirm the emotions expressed by the individual, confirming their feelings are valid and heard.\n",
        "3. **Client-Centered Approach:** Focus on the individual's perspective, encouraging them to lead the conversation and engage in self-exploration.\n",
        "4. **Depth of Exploration:** Encourage deeper examination of emotions and thoughts to explore the root causes of feelings.\n",
        "5. **Supportiveness:** Provide reassurance, fostering a safe, non-judgmental space for open expression.\n",
        "6. **Professional Tone:** Maintain a respectful tone suitable for therapy or support contexts.\n",
        "7. **Active Listening:** Demonstrate attentiveness by reflecting or paraphrasing the individual’s key points to show understanding.\n",
        "8. **Clarity and Coherence:** Ensure responses are clear, structured, and free from overly complex language.\n",
        "9. **Tailored Feedback:** Offer personalized responses addressing the individual’s specific situation, avoiding generic advice.\n",
        "10. **Cultural Sensitivity:** Show respect for the individual’s cultural background, beliefs, and values.\n",
        "11. **Encouragement of Autonomy:** Empower individuals to make decisions, fostering self-reliance.\n",
        "12. **Crisis Management:** Recognize signs of emotional distress or crises and provide immediate support.\n",
        "13. **Reflection and Mirroring:** Reflect emotions and thoughts back to the individual to enhance understanding.\n",
        "14. **Positive Reinforcement:** Encourage positive behaviors or progress, boosting confidence.\n",
        "15. **Open-Ended Questions:** Use questions that invite deeper exploration of feelings and thoughts.\n",
        "16. **Non-Judgmental Attitude:** Maintain an open, non-judgmental tone, fostering trust.\n",
        "17. **Therapeutic Pacing:** Allow the conversation to progress at a comfortable pace for the individual.\n",
        "18. **Reflective Summarization:** Summarize key points to ensure clarity and mutual understanding.\n",
        "19. **Collaboration:** Promote a collaborative approach in exploring solutions and insights.\n",
        "20. **Consistency:** Align responses with previous therapeutic goals and avoid contradictions.\n",
        "21. **Use of Evidence-Based Techniques:** Employ accredited therapeutic techniques to provide support.\n",
        "\n",
        "# Step 3 - Analyse your response and make sure that the response meets the criteria in Step 2.\n",
        "\n",
        "# Step 4 - Focus on the following points:\n",
        "\n",
        "- Start with empathetic acknowledgment of the user's emotions.\n",
        "- Validate their feelings to ensure they feel heard.\n",
        "- Encourage them to explore their thoughts and emotions deeply.\n",
        "- Maintain a supportive and professional tone throughout.\n",
        "- Use active listening techniques, like reflecting and paraphrasing, to clarify understanding.\n",
        "- Tailor responses to the individual's situation, considering cultural sensitivity.\n",
        "- Ask open-ended questions to foster further exploration.\n",
        "- Provide reinforcements and autonomy to empower the individual.\n",
        "- Be mindful of therapeutic pacing and provide reflective summarization.\n",
        "- Ensure collaboration in formulating insights and solutions.\n",
        "- Use evidence-based techniques to guide responses.\n",
        "\n",
        "# Output Format\n",
        "\n",
        "Provide a coherent, structured paragraph or series of paragraphs that incorporate the above criteria. Ensure clarity and relevance to the individual's context and promote therapeutic goals.\n",
        "\n",
        "# Examples\n",
        "\n",
        "**Example Start**\n",
        "- *User Input:* \"I've been feeling really overwhelmed with work and family commitments lately. It's just a lot to handle, and I'm not sure I'm doing anything well.\"\n",
        "\n",
        "  *Response:* \"I can imagine how overwhelming it must feel to juggle multiple responsibilities. It's important to recognize that these feelings are valid and that many people experiencing similar pressures feel just as you do. Allow yourself to explore what's beneath these feelings. What aspects of your work and family commitments are most challenging for you right now? Remember, it's okay to seek balance and prioritize self-care. We can work together to find strategies that support you in managing these commitments effectively.\"\n",
        "**Example End** (Responses in practice might need to be longer depending on user input.)\n",
        "\n",
        "# Notes\n",
        "\n",
        "- Be sensitive to potential crisis signs, and provide an immediate supportive response.\n",
        "- Responses should adapt to varied cultural and individual contexts.\n",
        "- Strive for consistency in approach, aligning with established therapeutic goals.\n",
        "- Your first response should assure the user that you're here for them and that you understand what they are going through.\n",
        "- Remember that this is a conversation, so don't repeat the responses if not necessary.\n",
        "- Remember to keep the conversation engaging and maintain a warm and non-judgmental tone throughout the conversation.\n",
        "- Make sure to explore what's effecting the clients feelings and emotions.\n",
        "- Make sure to keep the conversation casual and sound more like a human. DO NOT use advanced language.\n",
        "- You can ask questions to better understand.\n",
        "\n",
        "\n",
        "\"\"\""
      ]
    },
    {
      "cell_type": "code",
      "execution_count": null,
      "metadata": {
        "id": "4HpELoW5NlIf"
      },
      "outputs": [],
      "source": [
        "memory_prompt =  \"\"\"\n",
        "\n",
        "-Goal-\n",
        "Given a conversation that is potentially relevant to Virtual Therapy Session,\n",
        "identify all entities of those types from the text and all relationships among the identified entities.\n",
        "\n",
        "\n",
        "Memory Usage Guidelines:\n",
        "1. Actively use memory tools (save_recall_memory, search_recall_memories) to build a comprehensive understanding of the user.\n",
        "2. Cross-reference new information with existing memories for consistency.\n",
        "3. Prioritize storing emotional context and personal values alongside facts.\n",
        "4. Use memory to anticipate needs and tailor responses to the user's style.\n",
        "5. Recognize and acknowledge changes in the user's situation or perspectives over time.\n",
        "6. Leverage memories to provide personalized examples and analogies.\n",
        "7. Recall past challenges or successes to inform current problem-solving.\n",
        "8. Extract entities and thier relationships.\n",
        "\n",
        "## Recall Memories\n",
        "Recall memories are contextually retrieved based on the current conversation:\n",
        "{recall_memories}\n",
        "\n",
        "## Instructions\n",
        "\n",
        "\n",
        "\n",
        "Steps:\n",
        "\n",
        "    1.\tIdentify all entities. For each identified entity, extract the following information:\n",
        "    •\tentity_name: Name of the entity (e.g., disorder, symptom, treatment, people, emotions, etc), capitalized\n",
        "    •\tentity_type: One of the following types: [{entity_types}] (e.g., “Disorder”, “Symptom”, “Diagnostic Criterion”, “Treatment”, “Risk Factor”, “Comorbidity”, etc.)\n",
        "    •\tentity_description: Comprehensive description of the entity’s attributes and activities (e.g., causes, risk factors, diagnostic criteria, or relevant information)\n",
        "\n",
        "    2.\tFrom the entities identified in step 1, identify all pairs of (source_entity, target_entity) that are clearly related to each other.\n",
        "\n",
        "For each pair of related entities, extract the following information:\n",
        "- source_entity: Name of the source entity, as identified in step 1\n",
        "- target_entity: Name of the target entity, as identified in step 1\n",
        "- relationship_description: Explanation as to why you think the source entity and the target entity are related to each other (e.g., “symptom of”, “treated with”, “comorbid with”)\n",
        "- relationship_strength: A numeric score indicating the strength of the relationship between the source entity and target entity (on a scale of 1 to 10)\n",
        "\n",
        "If there are multiple entitiees of the same type, group them together. For example sadness and lonliness are feelings so they should be grouped.\n",
        "\n",
        "Example 1:\n",
        "\n",
        "Entity Types: Disorder, Symptom, Diagnostic Criterion, Treatment\n",
        "\n",
        "Text:\n",
        "\n",
        "My name is Emily. My fiancé Alex and I come from a strong Christian background but both went off the “straight and narrow” once before.\n",
        "He is having a hard time accepting my past, especially that I’m not a virgin. He has a hard time in general accepting himself and others.\n",
        "We have known each other for 7 years but we’ve been in a relationship for 3 years.\n",
        "His insecurities are hurting our relationship. How can I help him let go of my past and decide to live in the present?\n",
        "\n",
        "Output:\n",
        "\n",
        "{'subject': 'ALEX', 'predicate': 'fiancé', 'object_': 'EMILY'}\n",
        "{'subject': 'ALEX', 'predicate': 'comes from', 'object_': 'a strong Christian background'}\n",
        "{'subject': 'EMILY', 'predicate': 'comes from', 'object_': 'a strong Christian background'}\n",
        "{'subject': 'ALEX', 'predicate': 'in a relationship with', 'object_': 'EMILY'}\n",
        "{'subject': 'EMILY', 'predicate': 'struggling with', 'object_': 'accepting ALEX's past'}\n",
        "{'subject': 'EMILY', 'predicate': 'struggling with', 'object_': 'accepting herself'}\n",
        "{'subject': 'EMILY', 'predicate': 'struggling with', 'object_': 'accepting others'}\n",
        "{'subject': 'EMILY', 'predicate': 'know each other for 7 years', 'object_': 'ALEX'}\n",
        "{'subject': 'EMILY', 'predicate': 'in a relationship for 3 years', 'object_': 'ALEX'}\n",
        "{'subject': 'EMILY', 'predicate': 'insecurities are hurting', 'object_': 'their relationship'}\n",
        "\n",
        "Example 2:\n",
        "\n",
        "Text:\n",
        "Hi, My name is Alex. I have been diagnosed with general anxiety and depression by my family doctor Ben.\n",
        "They wrote a prescription for me to have an emotional support dog, I have the paper work, and I gave it to my apartment manager.\n",
        "They said I can't keep the ESD because I'm not disabled. What do you suggest I do?\n",
        "\n",
        "Output:\n",
        "\n",
        "{'subject': 'ALEX', 'predicate': 'family doctor', 'object_': 'BEN'}\n",
        "{'subject': 'ALEX', 'predicate': 'diagnosed with', 'object_': 'GENERAL ANXIETY'}\n",
        "{'subject': 'ALEX', 'predicate': 'diagnosed with', 'object_': 'DEPRESSION'}\n",
        "{'subject': 'BEN', 'predicate': 'diagnosed by', 'object_': 'ALEX'}\n",
        "{'subject': 'BEN', 'predicate': 'wrote a prescription for', 'object_': 'ESD'}\n",
        "{'subject': 'APARTMENT MANAGER', 'predicate': 'said', 'object_': 'can’t keep the ESD'}\n",
        "{'subject': 'APARTMENT MANAGER', 'predicate': 'said', 'object_': 'not disabled'}\n",
        "\n",
        "\n",
        "Do not answer the user's prompt -THIS IS THE JOB OF OTHER AGENT-, just retrieve the memories related to the prompt in a way that it could be used by the Generator_Agent.\n",
        "Be attentive to subtle cues and underlying emotions.\n",
        "You should always save first, wait for the save_recall_memory completed successfully then call the search tool.\n",
        "Respond AFTER calling the tool with the memories related to the prompt, once you have confirmation that the tool completed successfully.\n",
        "Prefix your response with Retrieved and refer to the memories in third person or by the user name if you know it e.g. \"The user feels sad\", \"/{user's name}/ \"\n",
        "\"\"\"\n"
      ]
    },
    {
      "cell_type": "markdown",
      "metadata": {
        "id": "skOfliCmgJ1z"
      },
      "source": [
        "## Vector Store"
      ]
    },
    {
      "cell_type": "code",
      "execution_count": null,
      "metadata": {
        "id": "qGLsr6fmNgbe"
      },
      "outputs": [],
      "source": [
        "from langchain_openai import OpenAIEmbeddings\n",
        "from langchain_core.vectorstores import InMemoryVectorStore\n",
        "\n",
        "recall_vector_store = InMemoryVectorStore(OpenAIEmbeddings(api_key=OPENAI_API_KEY))\n",
        "graphrag_vector_store = InMemoryVectorStore(OpenAIEmbeddings(api_key=OPENAI_API_KEY))"
      ]
    },
    {
      "cell_type": "markdown",
      "metadata": {
        "id": "MHj7CdJNq2H-"
      },
      "source": [
        "## Graph RAG"
      ]
    },
    {
      "cell_type": "code",
      "execution_count": null,
      "metadata": {
        "collapsed": true,
        "id": "le3qZuRaq5Zu"
      },
      "outputs": [],
      "source": [
        "import os\n",
        "\n",
        "import pandas as pd\n",
        "import tiktoken\n",
        "\n",
        "from graphrag.query.indexer_adapters import (\n",
        "    read_indexer_communities,\n",
        "    read_indexer_entities,\n",
        "    read_indexer_reports,\n",
        ")\n",
        "from graphrag.query.llm.oai.chat_openai import ChatOpenAI\n",
        "from graphrag.query.llm.oai.typing import OpenaiApiType\n",
        "from graphrag.query.structured_search.global_search.community_context import (\n",
        "    GlobalCommunityContext,\n",
        ")\n",
        "from graphrag.query.structured_search.global_search.search import GlobalSearch"
      ]
    },
    {
      "cell_type": "code",
      "execution_count": null,
      "metadata": {
        "colab": {
          "base_uri": "https://localhost:8080/",
          "height": 428
        },
        "id": "vtGkc_q2q5Xk",
        "outputId": "17dab39e-09d9-45cd-e4d4-b678faa8fca4"
      },
      "outputs": [
        {
          "name": "stderr",
          "output_type": "stream",
          "text": [
            "WARNING:graphrag.query.indexer_adapters:Missing reports for communities: ['67', '167', '79', '139', '174', '143', '125', '129', '37', '34', '33', '124', '77', '54', '168', '118', '164', '368', '353', '284', '404', '369', '409', '318', '410', '403', '269', '346', '347', '271', '263', '355']\n"
          ]
        },
        {
          "name": "stdout",
          "output_type": "stream",
          "text": [
            "Total report count: 500\n",
            "Report count after filtering by community level 0: 26\n"
          ]
        },
        {
          "data": {
            "application/vnd.google.colaboratory.intrinsic+json": {
              "summary": "{\n  \"name\": \"report_df\",\n  \"rows\": 500,\n  \"fields\": [\n    {\n      \"column\": \"community\",\n      \"properties\": {\n        \"dtype\": \"string\",\n        \"num_unique_values\": 500,\n        \"samples\": [\n          \"159\",\n          \"223\",\n          \"177\"\n        ],\n        \"semantic_type\": \"\",\n        \"description\": \"\"\n      }\n    },\n    {\n      \"column\": \"full_content\",\n      \"properties\": {\n        \"dtype\": \"string\",\n        \"num_unique_values\": 488,\n        \"samples\": [\n          \"# Dyspareunia and Associated Disorders\\n\\nThe community focuses on Dyspareunia, a sexual dysfunction characterized by pain during intercourse, and its relationships with various medical conditions such as Urinary Tract Infections, Endometriosis, and others. These entities are interconnected, highlighting the complexity of sexual health issues and their impact on individuals.\\n\\n## Dyspareunia as a central sexual dysfunction\\n\\nDyspareunia is a key entity in this community, defined by persistent or recurrent pain during sexual intercourse. This condition not only affects physical health but also leads to emotional distress and interpersonal difficulties for those affected. The recurrent nature of Dyspareunia necessitates careful diagnosis and treatment, as it can overlap with other disorders such as Vaginismus and Pain Disorder. Understanding Dyspareunia is crucial for addressing sexual health issues effectively. [records: Entities (532), Relationships (4141, 3860)]\\n\\n## Interconnection with Urinary Tract Infections\\n\\nUrinary Tract Infections (UTIs) are significantly related to Dyspareunia, as they can cause pain during sexual activity. This relationship is particularly evident in children with Enuresis, where UTIs are more prevalent. The discomfort caused by UTIs can exacerbate the symptoms of Dyspareunia, highlighting the need for comprehensive treatment approaches that address both conditions simultaneously. [records: Entities (1042), Relationships (4148, 2823)]\\n\\n## Endometriosis and its impact on Dyspareunia\\n\\nEndometriosis is another critical entity linked to Dyspareunia, as it can lead to significant pain during intercourse. The presence of endometrial-like tissue outside the uterus can cause chronic discomfort, which may manifest as Dyspareunia. This relationship underscores the importance of recognizing and treating endometriosis to alleviate the associated sexual pain and improve the quality of life for affected individuals. [records: Entities (2747), Relationships (4149, 6029)]\\n\\n## Role of Adhesions in sexual pain\\n\\nAdhesions, or scar tissue that forms after surgery or injury, can contribute to Dyspareunia by causing pain during sexual intercourse. This relationship indicates that surgical history or trauma may play a significant role in the development of sexual dysfunctions. Addressing adhesions through appropriate medical interventions can be crucial for individuals experiencing Dyspareunia linked to this condition. [records: Entities (2748), Relationships (4150)]\\n\\n## Insufficient vaginal lubrication as a risk factor\\n\\nInsufficient vaginal lubrication is recognized as a significant risk factor for Dyspareunia. This condition can be exacerbated by factors such as postmenopausal vaginal atrophy or temporary estrogen deprivation, leading to discomfort during sexual activity. Understanding the role of lubrication in sexual health is essential for developing effective treatment strategies for those experiencing Dyspareunia. [records: Entities (2753), Relationships (4151, 4152)]\\n\\n## Pelvic pathology and its implications\\n\\nPelvic pathology encompasses various medical conditions affecting the pelvic area, which can lead to Dyspareunia. Conditions such as infections or endometriosis fall under this category, indicating a direct relationship with sexual pain. Recognizing and treating underlying pelvic issues is vital for alleviating Dyspareunia and improving sexual health outcomes. [records: Entities (2745), Relationships (4146)]\\n\\n## Vaginal scar tissue's contribution to pain\\n\\nVaginal scar tissue can significantly contribute to Dyspareunia by causing pain during intercourse. This condition may arise from previous surgeries, trauma, or other medical interventions. Understanding the presence of vaginal scar tissue is crucial for accurate diagnosis and effective treatment of Dyspareunia, as it can directly impact sexual function and quality of life. [records: Entities (2746), Relationships (4147)]\\n\\n## Gastrointestinal conditions affecting sexual health\\n\\nGastrointestinal conditions can also lead to discomfort during sexual activity, contributing to Dyspareunia. The interplay between gastrointestinal health and sexual function highlights the need for a holistic approach to treatment, considering both physical and emotional aspects of sexual health. Addressing gastrointestinal issues may help alleviate symptoms of Dyspareunia and improve overall well-being. [records: Entities (2752), Relationships (4154)]\",\n          \"# Suicidal Ideation and Related Mental Health Disorders\\n\\nThis community focuses on the interconnectedness of suicidal ideation, suicide attempts, panic attacks, and various mental health disorders. Key entities such as Major Depressive Disorder, Schizophrenia, and Body Dysmorphic Disorder illustrate the complex relationships that contribute to severe mental health challenges and the risk of self-harm.\\n\\n## Suicidal Ideation as a symptom of Major Depressive Disorder\\n\\nSuicidal ideation is a prevalent symptom in individuals diagnosed with Major Depressive Disorder (MDD). The intense feelings of hopelessness and despair characteristic of MDD can lead to thoughts of self-harm or suicide. This relationship underscores the critical need for effective mental health interventions for those suffering from depression, as untreated MDD can escalate to suicide attempts. For instance, individuals experiencing a Major Depressive Episode may find themselves grappling with overwhelming thoughts of death, highlighting the urgency of addressing these symptoms promptly. [records: Relationships (843, 1072, 4917)]\\n\\n## The link between Schizophrenia and Suicidal Ideation\\n\\nIndividuals with Schizophrenia are at an increased risk for experiencing suicidal ideation, particularly when they also exhibit depressive symptoms. The complexity of Schizophrenia, which can include hallucinations and delusions, may exacerbate feelings of isolation and despair, leading to thoughts of self-harm. This relationship emphasizes the importance of comprehensive treatment plans that address both the psychotic and affective components of the disorder. For example, a patient with Schizophrenia may experience a postpsychotic depressive episode, significantly heightening their risk for suicidal thoughts. [records: Relationships (291, 1733)]\\n\\n## Suicide Attempts linked to Body Dysmorphic Disorder\\n\\nBody Dysmorphic Disorder (BDD) is associated with a heightened risk of suicide attempts due to the overwhelming distress individuals experience regarding their perceived physical flaws. This disorder can lead to severe emotional turmoil, prompting individuals to consider ending their lives as a means of escape from their suffering. The relationship between BDD and suicidal behavior highlights the need for targeted interventions that address the unique challenges faced by individuals with this disorder. For instance, a person with BDD may feel trapped in a cycle of obsession and despair, leading to a critical need for mental health support. [records: Relationships (3922, 3921)]\\n\\n## Panic Attacks as a symptom of anxiety disorders\\n\\nPanic attacks are a significant symptom in various anxiety disorders, characterized by sudden episodes of intense fear or discomfort. These attacks can occur unexpectedly and may be linked to specific phobias or substance use, such as cocaine dependence. The physical symptoms associated with panic attacks can be debilitating, further complicating the individual's mental health status. For example, someone with a Specific Phobia may experience panic attacks when confronted with their fear, leading to avoidance behaviors that can exacerbate their anxiety. [records: Relationships (4971, 3163)]\\n\\n## The role of Gender Identity Disorder in suicide risk\\n\\nIndividuals with Gender Identity Disorder face an increased risk of suicide attempts, particularly during adolescence, a critical period for identity formation. The societal pressures and stigma associated with gender identity can lead to feelings of isolation and despair, making this demographic particularly vulnerable. This relationship underscores the importance of supportive environments and mental health resources tailored to the needs of transgender and gender non-conforming individuals. For instance, a young person grappling with their gender identity may experience significant distress, leading to thoughts of self-harm. [records: Relationships (4255)]\",\n          \"# Malingering and Factitious Disorders\\n\\nThis community encompasses various psychological conditions, primarily focusing on Malingering and Factitious Disorders, including Factitious Disorder by Proxy. These entities are interconnected through their motivations and manifestations, highlighting the complexities of intentional symptom production for external incentives or attention.\\n\\n## Understanding Malingering\\n\\nMalingering is characterized by the intentional production or exaggeration of symptoms for external incentives, such as financial gain or avoidance of responsibilities. This behavior can manifest in various ways, including feigning illness or disability, and is distinct from genuine mental health disorders. For instance, individuals may simulate symptoms of conditions like Kleptomania to evade legal consequences, which complicates the assessment and treatment of such cases. The distinction between Malingering and other disorders, such as Dementia or Conversion Disorder, is crucial for accurate diagnosis and intervention. [records: Entities (591, 4701), Relationships (2163, 3802, 3929)]\\n\\n## Factitious Disorder by Proxy\\n\\nFactitious Disorder by Proxy involves a caregiver intentionally producing or exaggerating symptoms in another person, often a child, to gain attention or sympathy. This disorder highlights the psychological complexities of the caregiver's motivations, which are driven by a need for attention rather than genuine concern for the individual's well-being. The implications of this disorder can be severe, as it may lead to abuse or neglect of the victim, and perpetrators may face serious legal consequences, including criminal charges. Understanding the dynamics of this disorder is essential for protecting vulnerable individuals and addressing the underlying psychological issues of the caregiver. [records: Entities (3438, 3448, 3450), Relationships (1860, 1851, 1859)]\\n\\n## Differentiating from Other Disorders\\n\\nMalingering must be carefully differentiated from other psychological conditions, such as Amnestic Disorder or Brief Psychotic Disorder. For example, cognitive deficits in malingerers may be inconsistent over time, which is not characteristic of true dementia. Similarly, while both Malingering and Conversion Disorder may present with similar symptoms, the motivations behind these conditions are fundamentally different. This differentiation is critical for clinicians to ensure appropriate treatment and avoid misdiagnosis, which can lead to ineffective interventions. [records: Entities (1469, 590), Relationships (3927, 3525, 3777)]\\n\\n## Impact of Noncompliance with Treatment\\n\\nNoncompliance with treatment is a significant issue that can arise from psychological factors associated with Malingering. Patients who engage in Malingering may intentionally fail to adhere to prescribed treatment regimens, complicating their health outcomes. This noncompliance can stem from various motivations, including the desire to avoid responsibilities or gain financial benefits. Understanding the relationship between Malingering and noncompliance is essential for healthcare providers to develop effective strategies for managing patient care and improving adherence to treatment protocols. [records: Entities (590), Relationships (638, 4736)]\\n\\n## Legal Implications of Factitious Disorders\\n\\nIndividuals with Factitious Disorder by Proxy may face serious legal repercussions, including criminal charges related to abuse or neglect of the victim. The legal system often becomes involved when the symptoms induced in the victim lead to significant harm or when the caregiver's actions are discovered. This highlights the importance of recognizing and addressing these disorders not only from a psychological perspective but also within the context of legal and ethical considerations. The potential for severe consequences underscores the need for vigilance in identifying and managing cases of Factitious Disorder by Proxy. [records: Entities (3448, 3450), Relationships (1859)]\"\n        ],\n        \"semantic_type\": \"\",\n        \"description\": \"\"\n      }\n    },\n    {\n      \"column\": \"level\",\n      \"properties\": {\n        \"dtype\": \"number\",\n        \"std\": 0,\n        \"min\": 0,\n        \"max\": 3,\n        \"num_unique_values\": 4,\n        \"samples\": [\n          2,\n          0,\n          3\n        ],\n        \"semantic_type\": \"\",\n        \"description\": \"\"\n      }\n    },\n    {\n      \"column\": \"rank\",\n      \"properties\": {\n        \"dtype\": \"number\",\n        \"std\": 1.3905997033906383,\n        \"min\": 4.0,\n        \"max\": 9.0,\n        \"num_unique_values\": 9,\n        \"samples\": [\n          8.5,\n          8.0,\n          5.0\n        ],\n        \"semantic_type\": \"\",\n        \"description\": \"\"\n      }\n    },\n    {\n      \"column\": \"title\",\n      \"properties\": {\n        \"dtype\": \"string\",\n        \"num_unique_values\": 446,\n        \"samples\": [\n          \"Catatonic Disorder and Associated Symptoms\",\n          \"Tardive Dyskinesia and Associated Movement Disorders\",\n          \"Males and Psychological Disorders in the United States\"\n        ],\n        \"semantic_type\": \"\",\n        \"description\": \"\"\n      }\n    },\n    {\n      \"column\": \"rank_explanation\",\n      \"properties\": {\n        \"dtype\": \"string\",\n        \"num_unique_values\": 486,\n        \"samples\": [\n          \"The impact rating is high due to the significant contributions of these professionals to the understanding and treatment of personality disorders, which can have profound implications for mental health.\",\n          \"The impact rating is high due to the strong genetic predisposition and familial patterns associated with tic disorders, which can significantly affect individuals and families.\",\n          \"The impact rating is high due to the complex interplay between cultural context and mental health disorders, which can lead to significant challenges in diagnosis and treatment.\"\n        ],\n        \"semantic_type\": \"\",\n        \"description\": \"\"\n      }\n    },\n    {\n      \"column\": \"summary\",\n      \"properties\": {\n        \"dtype\": \"string\",\n        \"num_unique_values\": 484,\n        \"samples\": [\n          \"This community focuses on the intricate relationships between various dissociative disorders, particularly Dissociative Amnesia, and the cognitive symptom of memory loss. Key entities include Memory Loss, Dissociative Amnesia, and related disorders such as Major Depressive Disorder and Acute Stress Disorder, highlighting the complex interplay of psychological factors affecting memory.\",\n          \"This community encompasses various psychological disorders and their associated symptoms, particularly focusing on Thought Broadcasting, Disorganized Thinking, and Defense Mechanisms. The relationships among these entities highlight the complexity of mental health conditions and the coping strategies individuals employ.\",\n          \"The community focuses on the complex emotional and psychological responses associated with bereavement, including various symptoms and cultural variations. Key entities such as bereavement, its symptoms, and cultural influences are interconnected, highlighting the multifaceted nature of grief and its impact on individuals.\"\n        ],\n        \"semantic_type\": \"\",\n        \"description\": \"\"\n      }\n    },\n    {\n      \"column\": \"findings\",\n      \"properties\": {\n        \"dtype\": \"object\",\n        \"semantic_type\": \"\",\n        \"description\": \"\"\n      }\n    },\n    {\n      \"column\": \"full_content_json\",\n      \"properties\": {\n        \"dtype\": \"string\",\n        \"num_unique_values\": 499,\n        \"samples\": [\n          \"{\\n    \\\"title\\\": \\\"Dementia and Associated Cognitive Disorders\\\",\\n    \\\"summary\\\": \\\"The community focuses on dementia, a chronic cognitive disorder, and its various forms and related conditions, including Alzheimer's Disease, apraxia, and significant cognitive impairments. These entities are interconnected through their symptoms and diagnostic criteria, highlighting the complexity of cognitive health issues.\\\",\\n    \\\"rating\\\": 4.5,\\n    \\\"rating_explanation\\\": \\\"The impact rating is high due to the significant cognitive decline and associated challenges faced by individuals with dementia and related disorders.\\\",\\n    \\\"findings\\\": [\\n        {\\n            \\\"summary\\\": \\\"Dementia as a central cognitive disorder\\\",\\n            \\\"explanation\\\": \\\"Dementia is a chronic and progressive cognitive disorder that significantly impairs memory, thinking, and social abilities. It encompasses various underlying conditions, including Alzheimer's Disease, which is the most common form of dementia. The decline in cognitive function associated with dementia can interfere with daily living, making it a critical health concern. The complexity of dementia is further compounded by its coexistence with other mental health issues, such as depression and anxiety, which can exacerbate cognitive deficits. [records: Entities (359, 360), Relationships (963, 2112)]\\\"\\n        },\\n        {\\n            \\\"summary\\\": \\\"Alzheimer's Disease as a prevalent form of dementia\\\",\\n            \\\"explanation\\\": \\\"Alzheimer's Disease is recognized as the leading cause of dementia, characterized by a gradual decline in cognitive function and significant memory loss. As the disease progresses, individuals face increasing challenges in performing daily activities, ultimately leading to a profound inability to care for themselves. The late onset of Alzheimer's complicates the lives of those affected and their caregivers, emphasizing the need for effective management strategies. [records: Entities (360), Relationships (914)]\\\"\\n        },\\n        {\\n            \\\"summary\\\": \\\"Apraxia's relationship with dementia\\\",\\n            \\\"explanation\\\": \\\"Apraxia is a cognitive disturbance often associated with various forms of dementia, including Alzheimer's Disease and Vascular Dementia. Individuals with apraxia struggle to perform tasks or movements upon request, despite having the desire and physical capability to do so. This condition highlights the intricate relationship between cognitive function and motor skills in dementia patients, complicating their ability to engage in daily activities. [records: Entities (1227), Relationships (220)]\\\"\\n        },\\n        {\\n            \\\"summary\\\": \\\"Significant impairment as a diagnostic criterion\\\",\\n            \\\"explanation\\\": \\\"Significant impairment in social, academic, or occupational functioning is a critical factor in diagnosing dementia. This impairment is not only a hallmark of dementia but also serves as a key criterion for various related disorders, including Oppositional Defiant Disorder. The impact of cognitive deficits on an individual's ability to engage effectively in important life domains underscores the necessity for appropriate diagnosis and intervention. [records: Entities (962), Relationships (649)]\\\"\\n        },\\n        {\\n            \\\"summary\\\": \\\"Cognitive deficits as a hallmark of dementia\\\",\\n            \\\"explanation\\\": \\\"Cognitive deficits are a defining feature of dementia, manifesting in various ways, including memory loss, executive dysfunction, and difficulties with language. These deficits significantly impact an individual's ability to function and are critical for understanding and diagnosing various forms of dementia. The presence of cognitive disturbances is essential for accurate diagnosis and effective management of dementia-related conditions. [records: Entities (1260), Relationships (2121)]\\\"\\n        },\\n        {\\n            \\\"summary\\\": \\\"The role of neuroimaging in dementia diagnosis\\\",\\n            \\\"explanation\\\": \\\"Neuroimaging is a vital diagnostic tool used to evaluate the structure and function of the brain in individuals suspected of having dementia. This technique can reveal nonspecific atrophy and other abnormalities associated with various neurodegenerative disorders, aiding in the differential diagnosis of dementia. The importance of neuroimaging in identifying underlying conditions highlights its role in the comprehensive assessment of cognitive health. [records: Entities (1238), Relationships (2137)]\\\"\\n        },\\n        {\\n            \\\"summary\\\": \\\"Mood disturbances in dementia\\\",\\n            \\\"explanation\\\": \\\"Mood disturbances, including depression and irritability, are frequently observed in individuals with dementia. These emotional changes can complicate the clinical picture, as they may overlap with cognitive symptoms, making diagnosis and treatment more challenging. Understanding the interplay between mood and cognitive function is crucial for providing effective care to individuals affected by dementia. [records: Entities (1234), Relationships (2131)]\\\"\\n        },\\n        {\\n            \\\"summary\\\": \\\"The impact of head injury on dementia\\\",\\n            \\\"explanation\\\": \\\"Head injuries are significant risk factors for developing dementia, particularly in younger individuals. The relationship between head trauma and cognitive decline underscores the importance of considering physical trauma in the assessment of mental health issues. Additionally, head injuries can exacerbate cognitive deficits in individuals with a history of substance use, highlighting the complex interplay between physical and psychological health. [records: Entities (1260), Relationships (2160)]\\\"\\n        },\\n        {\\n            \\\"summary\\\": \\\"The complexity of differential diagnosis in dementia\\\",\\n            \\\"explanation\\\": \\\"Differential diagnosis is essential for accurately identifying the type of dementia, as various conditions can present with overlapping symptoms. For instance, delirium can mimic dementia but is characterized by altered consciousness, while other disorders like amnestic disorder may share memory impairment features. Understanding these distinctions is crucial for effective diagnosis and management of cognitive impairments. [records: Entities (1713), Relationships (1685)]\\\"\\n        }\\n    ]\\n}\",\n          \"{\\n    \\\"title\\\": \\\"Unspecified Mental Disorders and Related Conditions\\\",\\n    \\\"summary\\\": \\\"This community focuses on unspecified mental disorders, particularly the unspecified mental disorder (nonpsychotic) and its relationships with various conditions such as vascular dementia, vaginismus, voyeurism, undifferentiated type of schizophrenia, and withdrawal from substances. These entities highlight the complexity and interrelated nature of mental health issues.\\\",\\n    \\\"rating\\\": 4.5,\\n    \\\"rating_explanation\\\": \\\"The impact rating is high due to the significant distress and impairment associated with these mental health conditions.\\\",\\n    \\\"findings\\\": [\\n        {\\n            \\\"summary\\\": \\\"Complexity of Unspecified Mental Disorders\\\",\\n            \\\"explanation\\\": \\\"The entity 'Unspecified Mental Disorder (Nonpsychotic)' serves as a broad classification for various mental health issues that do not meet specific diagnostic criteria. This category is crucial as it encompasses a range of disorders that can cause significant distress or impairment in functioning. The lack of a defined diagnosis often complicates treatment and understanding of these conditions, making it essential for mental health professionals to recognize and address the variability in symptoms experienced by individuals. [records: Entities (3778)]\\\"\\n        },\\n        {\\n            \\\"summary\\\": \\\"Relationship with Vascular Dementia\\\",\\n            \\\"explanation\\\": \\\"Vascular dementia is identified as a type of mental disorder that can fall under the category of unspecified mental disorders. This relationship indicates that individuals suffering from vascular dementia may experience symptoms that do not align with more defined mental health conditions, further complicating their diagnosis and treatment. Understanding this connection is vital for healthcare providers to ensure comprehensive care for patients with overlapping symptoms. [records: Relationships (2215)]\\\"\\n        },\\n        {\\n            \\\"summary\\\": \\\"Vaginismus and Mental Health Distress\\\",\\n            \\\"explanation\\\": \\\"Vaginismus is another condition that can be associated with unspecified mental disorders, as it can cause significant distress similar to that experienced by individuals with these disorders. This relationship highlights the psychological impact of vaginismus, which may not only affect physical health but also contribute to broader mental health challenges. Addressing both the physical and psychological aspects of vaginismus is crucial for effective treatment. [records: Relationships (4167)]\\\"\\n        },\\n        {\\n            \\\"summary\\\": \\\"Voyeurism's Classification\\\",\\n            \\\"explanation\\\": \\\"Voyeurism is classified under unspecified mental disorders, indicating that it can manifest in ways that do not fit neatly into other diagnostic categories. This classification underscores the importance of understanding voyeurism within the broader context of mental health, as it may involve complex psychological factors that require careful consideration in treatment and support. [records: Relationships (4236)]\\\"\\n        },\\n        {\\n            \\\"summary\\\": \\\"Connection to Undifferentiated Schizophrenia\\\",\\n            \\\"explanation\\\": \\\"The relationship between unspecified mental disorder (nonpsychotic) and undifferentiated type of schizophrenia suggests that both entities share characteristics that complicate their diagnosis. This connection is significant as it emphasizes the need for nuanced approaches in mental health care, particularly for individuals who may exhibit symptoms of both conditions. Understanding these overlaps can lead to more effective treatment strategies. [records: Relationships (6280)]\\\"\\n        },\\n        {\\n            \\\"summary\\\": \\\"Impact of Withdrawal from Substances\\\",\\n            \\\"explanation\\\": \\\"Withdrawal from substances is linked to unspecified mental disorders, as the symptoms experienced during withdrawal can lead to significant mental distress. This relationship highlights the importance of addressing substance use issues within the context of mental health, as individuals may face compounded challenges when dealing with both withdrawal symptoms and underlying mental health conditions. Effective intervention strategies must consider this interplay to support recovery. [records: Relationships (6281)]\\\"\\n        }\\n    ]\\n}\",\n          \"{\\n    \\\"title\\\": \\\"Thiamine Deficiency and Alcohol-Induced Disorders\\\",\\n    \\\"summary\\\": \\\"This community centers around thiamine deficiency and its significant associations with various alcohol-induced disorders, particularly Alcohol-Induced Persisting Amnestic Disorder and Wernicke's encephalopathy. The interconnectedness of these entities highlights the critical role of thiamine in neurological health and the severe implications of its deficiency, especially in the context of chronic alcohol use.\\\",\\n    \\\"rating\\\": 8.0,\\n    \\\"rating_explanation\\\": \\\"The impact rating is high due to the serious neurological complications associated with thiamine deficiency and its link to alcohol-induced disorders.\\\",\\n    \\\"findings\\\": [\\n        {\\n            \\\"summary\\\": \\\"Thiamine deficiency as a critical health issue\\\",\\n            \\\"explanation\\\": \\\"Thiamine deficiency is a significant health concern that can lead to severe neurological complications, including Wernicke's encephalopathy and Alcohol-Induced Persisting Amnestic Disorder. The deficiency of thiamine, also known as Vitamin B1, is particularly alarming as it can result in conditions that severely impair cognitive function and overall neurological health. For instance, Wernicke's encephalopathy is characterized by confusion, ataxia, and eye movement abnormalities, which can precede more severe cognitive deficits. This highlights the importance of thiamine in maintaining neurological health and the dire consequences of its absence. [records: Entities (1169, 1490, 1492), Relationships (5196, 5367)]\\\"\\n        },\\n        {\\n            \\\"summary\\\": \\\"Alcohol-Induced Persisting Amnestic Disorder's connection to thiamine deficiency\\\",\\n            \\\"explanation\\\": \\\"Alcohol-Induced Persisting Amnestic Disorder is closely linked to thiamine deficiency, as chronic alcohol consumption can lead to significant memory impairment and cognitive deficits. This disorder is marked by persistent memory issues that arise from prolonged and heavy alcohol use, often exacerbated by a lack of thiamine. The relationship between thiamine deficiency and this disorder underscores the critical need for adequate nutritional support in individuals with alcohol dependence to prevent severe cognitive impairments. [records: Entities (1485, 1169), Relationships (567, 5196)]\\\"\\n        },\\n        {\\n            \\\"summary\\\": \\\"Wernicke's encephalopathy as a precursor to cognitive decline\\\",\\n            \\\"explanation\\\": \\\"Wernicke's encephalopathy is a neurological condition that can precede Alcohol-Induced Persisting Amnestic Disorder, indicating a progression of cognitive decline linked to thiamine deficiency. The symptoms of Wernicke's encephalopathy, such as confusion and ataxia, serve as warning signs of potential long-term cognitive impairment if not addressed promptly. This relationship emphasizes the importance of early intervention and treatment to mitigate the risk of developing more severe disorders associated with alcohol use. [records: Entities (1492, 1485), Relationships (5367)]\\\"\\n        },\\n        {\\n            \\\"summary\\\": \\\"Peripheral neuropathy and myopathy as associated symptoms\\\",\\n            \\\"explanation\\\": \\\"Peripheral neuropathy and myopathy are symptoms associated with Alcohol-Induced Persisting Amnestic Disorder, further complicating the health status of affected individuals. These conditions can manifest as muscle weakness and neurological disturbances, which may exacerbate the cognitive impairments caused by alcohol use. The presence of these symptoms highlights the multifaceted impact of alcohol on health, necessitating a comprehensive approach to treatment that addresses both cognitive and physical health issues. [records: Entities (1493, 1490), Relationships (5368, 5370)]\\\"\\n        },\\n        {\\n            \\\"summary\\\": \\\"The role of alcohol dependence in cognitive disorders\\\",\\n            \\\"explanation\\\": \\\"Alcohol dependence is a significant factor contributing to the development of Alcohol-Induced Persisting Amnestic Disorder, illustrating the broader implications of chronic alcohol use on cognitive health. Individuals with a history of heavy alcohol consumption are at a heightened risk for developing persistent memory issues, which can lead to long-term cognitive deficits. This relationship underscores the need for targeted interventions aimed at reducing alcohol consumption and providing nutritional support to prevent thiamine deficiency and its associated disorders. [records: Entities (1485), Relationships (567, 2982)]\\\"\\n        }\\n    ]\\n}\"\n        ],\n        \"semantic_type\": \"\",\n        \"description\": \"\"\n      }\n    },\n    {\n      \"column\": \"id\",\n      \"properties\": {\n        \"dtype\": \"string\",\n        \"num_unique_values\": 500,\n        \"samples\": [\n          \"ddc6df2e-99e4-40e3-9da5-ae94a6ae4af4\",\n          \"15881039-6b2e-4927-8ba2-13a9cea80c3a\",\n          \"665922aa-8d22-47a7-b29b-7f3455b58f0d\"\n        ],\n        \"semantic_type\": \"\",\n        \"description\": \"\"\n      }\n    }\n  ]\n}",
              "type": "dataframe",
              "variable_name": "report_df"
            },
            "text/html": [
              "\n",
              "  <div id=\"df-7faa3076-b4e6-4cd1-8207-bb04a7d356c2\" class=\"colab-df-container\">\n",
              "    <div>\n",
              "<style scoped>\n",
              "    .dataframe tbody tr th:only-of-type {\n",
              "        vertical-align: middle;\n",
              "    }\n",
              "\n",
              "    .dataframe tbody tr th {\n",
              "        vertical-align: top;\n",
              "    }\n",
              "\n",
              "    .dataframe thead th {\n",
              "        text-align: right;\n",
              "    }\n",
              "</style>\n",
              "<table border=\"1\" class=\"dataframe\">\n",
              "  <thead>\n",
              "    <tr style=\"text-align: right;\">\n",
              "      <th></th>\n",
              "      <th>community</th>\n",
              "      <th>full_content</th>\n",
              "      <th>level</th>\n",
              "      <th>rank</th>\n",
              "      <th>title</th>\n",
              "      <th>rank_explanation</th>\n",
              "      <th>summary</th>\n",
              "      <th>findings</th>\n",
              "      <th>full_content_json</th>\n",
              "      <th>id</th>\n",
              "    </tr>\n",
              "  </thead>\n",
              "  <tbody>\n",
              "    <tr>\n",
              "      <th>0</th>\n",
              "      <td>486</td>\n",
              "      <td># Childhood Disintegrative Disorder and Develo...</td>\n",
              "      <td>3</td>\n",
              "      <td>4.5</td>\n",
              "      <td>Childhood Disintegrative Disorder and Developm...</td>\n",
              "      <td>The impact rating is high due to the profound ...</td>\n",
              "      <td>The community focuses on Childhood Disintegrat...</td>\n",
              "      <td>[{'explanation': 'Childhood Disintegrative Dis...</td>\n",
              "      <td>{\\n    \"title\": \"Childhood Disintegrative Diso...</td>\n",
              "      <td>42a16217-d626-46bd-a331-b85fa9033e73</td>\n",
              "    </tr>\n",
              "    <tr>\n",
              "      <th>1</th>\n",
              "      <td>487</td>\n",
              "      <td># Pervasive Developmental Disorders and Relate...</td>\n",
              "      <td>3</td>\n",
              "      <td>8.0</td>\n",
              "      <td>Pervasive Developmental Disorders and Related ...</td>\n",
              "      <td>The impact rating is high due to the complex i...</td>\n",
              "      <td>This community encompasses various pervasive d...</td>\n",
              "      <td>[{'explanation': 'Pervasive Developmental Diso...</td>\n",
              "      <td>{\\n    \"title\": \"Pervasive Developmental Disor...</td>\n",
              "      <td>16146dd1-da9c-46b4-a38d-4a14d9003405</td>\n",
              "    </tr>\n",
              "    <tr>\n",
              "      <th>2</th>\n",
              "      <td>488</td>\n",
              "      <td># Learning Disorders and Mathematics Disorder\\...</td>\n",
              "      <td>3</td>\n",
              "      <td>4.5</td>\n",
              "      <td>Learning Disorders and Mathematics Disorder</td>\n",
              "      <td>The impact rating is high due to the significa...</td>\n",
              "      <td>This community focuses on Learning Disorders, ...</td>\n",
              "      <td>[{'explanation': 'Learning Disorder encompasse...</td>\n",
              "      <td>{\\n    \"title\": \"Learning Disorders and Mathem...</td>\n",
              "      <td>685fa3e5-a5c7-453b-839b-f01a0d8842e2</td>\n",
              "    </tr>\n",
              "    <tr>\n",
              "      <th>3</th>\n",
              "      <td>489</td>\n",
              "      <td># Mental Health Disorders and Academic Achieve...</td>\n",
              "      <td>3</td>\n",
              "      <td>4.5</td>\n",
              "      <td>Mental Health Disorders and Academic Achievement</td>\n",
              "      <td>The impact rating is high due to the significa...</td>\n",
              "      <td>This community encompasses various mental heal...</td>\n",
              "      <td>[{'explanation': 'First-degree biological rela...</td>\n",
              "      <td>{\\n    \"title\": \"Mental Health Disorders and A...</td>\n",
              "      <td>cfe0ef8c-ead3-41c3-93b3-a6cbf02bfe4e</td>\n",
              "    </tr>\n",
              "    <tr>\n",
              "      <th>4</th>\n",
              "      <td>490</td>\n",
              "      <td># Mental Retardation and Associated Disorders\\...</td>\n",
              "      <td>3</td>\n",
              "      <td>4.5</td>\n",
              "      <td>Mental Retardation and Associated Disorders</td>\n",
              "      <td>The impact rating is high due to the significa...</td>\n",
              "      <td>The community focuses on Mental Retardation, a...</td>\n",
              "      <td>[{'explanation': 'Mental Retardation often coe...</td>\n",
              "      <td>{\\n    \"title\": \"Mental Retardation and Associ...</td>\n",
              "      <td>0f8346dc-6919-405b-84d4-4454c0874f59</td>\n",
              "    </tr>\n",
              "  </tbody>\n",
              "</table>\n",
              "</div>\n",
              "    <div class=\"colab-df-buttons\">\n",
              "\n",
              "  <div class=\"colab-df-container\">\n",
              "    <button class=\"colab-df-convert\" onclick=\"convertToInteractive('df-7faa3076-b4e6-4cd1-8207-bb04a7d356c2')\"\n",
              "            title=\"Convert this dataframe to an interactive table.\"\n",
              "            style=\"display:none;\">\n",
              "\n",
              "  <svg xmlns=\"http://www.w3.org/2000/svg\" height=\"24px\" viewBox=\"0 -960 960 960\">\n",
              "    <path d=\"M120-120v-720h720v720H120Zm60-500h600v-160H180v160Zm220 220h160v-160H400v160Zm0 220h160v-160H400v160ZM180-400h160v-160H180v160Zm440 0h160v-160H620v160ZM180-180h160v-160H180v160Zm440 0h160v-160H620v160Z\"/>\n",
              "  </svg>\n",
              "    </button>\n",
              "\n",
              "  <style>\n",
              "    .colab-df-container {\n",
              "      display:flex;\n",
              "      gap: 12px;\n",
              "    }\n",
              "\n",
              "    .colab-df-convert {\n",
              "      background-color: #E8F0FE;\n",
              "      border: none;\n",
              "      border-radius: 50%;\n",
              "      cursor: pointer;\n",
              "      display: none;\n",
              "      fill: #1967D2;\n",
              "      height: 32px;\n",
              "      padding: 0 0 0 0;\n",
              "      width: 32px;\n",
              "    }\n",
              "\n",
              "    .colab-df-convert:hover {\n",
              "      background-color: #E2EBFA;\n",
              "      box-shadow: 0px 1px 2px rgba(60, 64, 67, 0.3), 0px 1px 3px 1px rgba(60, 64, 67, 0.15);\n",
              "      fill: #174EA6;\n",
              "    }\n",
              "\n",
              "    .colab-df-buttons div {\n",
              "      margin-bottom: 4px;\n",
              "    }\n",
              "\n",
              "    [theme=dark] .colab-df-convert {\n",
              "      background-color: #3B4455;\n",
              "      fill: #D2E3FC;\n",
              "    }\n",
              "\n",
              "    [theme=dark] .colab-df-convert:hover {\n",
              "      background-color: #434B5C;\n",
              "      box-shadow: 0px 1px 3px 1px rgba(0, 0, 0, 0.15);\n",
              "      filter: drop-shadow(0px 1px 2px rgba(0, 0, 0, 0.3));\n",
              "      fill: #FFFFFF;\n",
              "    }\n",
              "  </style>\n",
              "\n",
              "    <script>\n",
              "      const buttonEl =\n",
              "        document.querySelector('#df-7faa3076-b4e6-4cd1-8207-bb04a7d356c2 button.colab-df-convert');\n",
              "      buttonEl.style.display =\n",
              "        google.colab.kernel.accessAllowed ? 'block' : 'none';\n",
              "\n",
              "      async function convertToInteractive(key) {\n",
              "        const element = document.querySelector('#df-7faa3076-b4e6-4cd1-8207-bb04a7d356c2');\n",
              "        const dataTable =\n",
              "          await google.colab.kernel.invokeFunction('convertToInteractive',\n",
              "                                                    [key], {});\n",
              "        if (!dataTable) return;\n",
              "\n",
              "        const docLinkHtml = 'Like what you see? Visit the ' +\n",
              "          '<a target=\"_blank\" href=https://colab.research.google.com/notebooks/data_table.ipynb>data table notebook</a>'\n",
              "          + ' to learn more about interactive tables.';\n",
              "        element.innerHTML = '';\n",
              "        dataTable['output_type'] = 'display_data';\n",
              "        await google.colab.output.renderOutput(dataTable, element);\n",
              "        const docLink = document.createElement('div');\n",
              "        docLink.innerHTML = docLinkHtml;\n",
              "        element.appendChild(docLink);\n",
              "      }\n",
              "    </script>\n",
              "  </div>\n",
              "\n",
              "\n",
              "<div id=\"df-ee48d755-6445-4640-b065-e6b333bb8470\">\n",
              "  <button class=\"colab-df-quickchart\" onclick=\"quickchart('df-ee48d755-6445-4640-b065-e6b333bb8470')\"\n",
              "            title=\"Suggest charts\"\n",
              "            style=\"display:none;\">\n",
              "\n",
              "<svg xmlns=\"http://www.w3.org/2000/svg\" height=\"24px\"viewBox=\"0 0 24 24\"\n",
              "     width=\"24px\">\n",
              "    <g>\n",
              "        <path d=\"M19 3H5c-1.1 0-2 .9-2 2v14c0 1.1.9 2 2 2h14c1.1 0 2-.9 2-2V5c0-1.1-.9-2-2-2zM9 17H7v-7h2v7zm4 0h-2V7h2v10zm4 0h-2v-4h2v4z\"/>\n",
              "    </g>\n",
              "</svg>\n",
              "  </button>\n",
              "\n",
              "<style>\n",
              "  .colab-df-quickchart {\n",
              "      --bg-color: #E8F0FE;\n",
              "      --fill-color: #1967D2;\n",
              "      --hover-bg-color: #E2EBFA;\n",
              "      --hover-fill-color: #174EA6;\n",
              "      --disabled-fill-color: #AAA;\n",
              "      --disabled-bg-color: #DDD;\n",
              "  }\n",
              "\n",
              "  [theme=dark] .colab-df-quickchart {\n",
              "      --bg-color: #3B4455;\n",
              "      --fill-color: #D2E3FC;\n",
              "      --hover-bg-color: #434B5C;\n",
              "      --hover-fill-color: #FFFFFF;\n",
              "      --disabled-bg-color: #3B4455;\n",
              "      --disabled-fill-color: #666;\n",
              "  }\n",
              "\n",
              "  .colab-df-quickchart {\n",
              "    background-color: var(--bg-color);\n",
              "    border: none;\n",
              "    border-radius: 50%;\n",
              "    cursor: pointer;\n",
              "    display: none;\n",
              "    fill: var(--fill-color);\n",
              "    height: 32px;\n",
              "    padding: 0;\n",
              "    width: 32px;\n",
              "  }\n",
              "\n",
              "  .colab-df-quickchart:hover {\n",
              "    background-color: var(--hover-bg-color);\n",
              "    box-shadow: 0 1px 2px rgba(60, 64, 67, 0.3), 0 1px 3px 1px rgba(60, 64, 67, 0.15);\n",
              "    fill: var(--button-hover-fill-color);\n",
              "  }\n",
              "\n",
              "  .colab-df-quickchart-complete:disabled,\n",
              "  .colab-df-quickchart-complete:disabled:hover {\n",
              "    background-color: var(--disabled-bg-color);\n",
              "    fill: var(--disabled-fill-color);\n",
              "    box-shadow: none;\n",
              "  }\n",
              "\n",
              "  .colab-df-spinner {\n",
              "    border: 2px solid var(--fill-color);\n",
              "    border-color: transparent;\n",
              "    border-bottom-color: var(--fill-color);\n",
              "    animation:\n",
              "      spin 1s steps(1) infinite;\n",
              "  }\n",
              "\n",
              "  @keyframes spin {\n",
              "    0% {\n",
              "      border-color: transparent;\n",
              "      border-bottom-color: var(--fill-color);\n",
              "      border-left-color: var(--fill-color);\n",
              "    }\n",
              "    20% {\n",
              "      border-color: transparent;\n",
              "      border-left-color: var(--fill-color);\n",
              "      border-top-color: var(--fill-color);\n",
              "    }\n",
              "    30% {\n",
              "      border-color: transparent;\n",
              "      border-left-color: var(--fill-color);\n",
              "      border-top-color: var(--fill-color);\n",
              "      border-right-color: var(--fill-color);\n",
              "    }\n",
              "    40% {\n",
              "      border-color: transparent;\n",
              "      border-right-color: var(--fill-color);\n",
              "      border-top-color: var(--fill-color);\n",
              "    }\n",
              "    60% {\n",
              "      border-color: transparent;\n",
              "      border-right-color: var(--fill-color);\n",
              "    }\n",
              "    80% {\n",
              "      border-color: transparent;\n",
              "      border-right-color: var(--fill-color);\n",
              "      border-bottom-color: var(--fill-color);\n",
              "    }\n",
              "    90% {\n",
              "      border-color: transparent;\n",
              "      border-bottom-color: var(--fill-color);\n",
              "    }\n",
              "  }\n",
              "</style>\n",
              "\n",
              "  <script>\n",
              "    async function quickchart(key) {\n",
              "      const quickchartButtonEl =\n",
              "        document.querySelector('#' + key + ' button');\n",
              "      quickchartButtonEl.disabled = true;  // To prevent multiple clicks.\n",
              "      quickchartButtonEl.classList.add('colab-df-spinner');\n",
              "      try {\n",
              "        const charts = await google.colab.kernel.invokeFunction(\n",
              "            'suggestCharts', [key], {});\n",
              "      } catch (error) {\n",
              "        console.error('Error during call to suggestCharts:', error);\n",
              "      }\n",
              "      quickchartButtonEl.classList.remove('colab-df-spinner');\n",
              "      quickchartButtonEl.classList.add('colab-df-quickchart-complete');\n",
              "    }\n",
              "    (() => {\n",
              "      let quickchartButtonEl =\n",
              "        document.querySelector('#df-ee48d755-6445-4640-b065-e6b333bb8470 button');\n",
              "      quickchartButtonEl.style.display =\n",
              "        google.colab.kernel.accessAllowed ? 'block' : 'none';\n",
              "    })();\n",
              "  </script>\n",
              "</div>\n",
              "\n",
              "    </div>\n",
              "  </div>\n"
            ],
            "text/plain": [
              "  community                                       full_content  level  rank  \\\n",
              "0       486  # Childhood Disintegrative Disorder and Develo...      3   4.5   \n",
              "1       487  # Pervasive Developmental Disorders and Relate...      3   8.0   \n",
              "2       488  # Learning Disorders and Mathematics Disorder\\...      3   4.5   \n",
              "3       489  # Mental Health Disorders and Academic Achieve...      3   4.5   \n",
              "4       490  # Mental Retardation and Associated Disorders\\...      3   4.5   \n",
              "\n",
              "                                               title  \\\n",
              "0  Childhood Disintegrative Disorder and Developm...   \n",
              "1  Pervasive Developmental Disorders and Related ...   \n",
              "2        Learning Disorders and Mathematics Disorder   \n",
              "3   Mental Health Disorders and Academic Achievement   \n",
              "4        Mental Retardation and Associated Disorders   \n",
              "\n",
              "                                    rank_explanation  \\\n",
              "0  The impact rating is high due to the profound ...   \n",
              "1  The impact rating is high due to the complex i...   \n",
              "2  The impact rating is high due to the significa...   \n",
              "3  The impact rating is high due to the significa...   \n",
              "4  The impact rating is high due to the significa...   \n",
              "\n",
              "                                             summary  \\\n",
              "0  The community focuses on Childhood Disintegrat...   \n",
              "1  This community encompasses various pervasive d...   \n",
              "2  This community focuses on Learning Disorders, ...   \n",
              "3  This community encompasses various mental heal...   \n",
              "4  The community focuses on Mental Retardation, a...   \n",
              "\n",
              "                                            findings  \\\n",
              "0  [{'explanation': 'Childhood Disintegrative Dis...   \n",
              "1  [{'explanation': 'Pervasive Developmental Diso...   \n",
              "2  [{'explanation': 'Learning Disorder encompasse...   \n",
              "3  [{'explanation': 'First-degree biological rela...   \n",
              "4  [{'explanation': 'Mental Retardation often coe...   \n",
              "\n",
              "                                   full_content_json  \\\n",
              "0  {\\n    \"title\": \"Childhood Disintegrative Diso...   \n",
              "1  {\\n    \"title\": \"Pervasive Developmental Disor...   \n",
              "2  {\\n    \"title\": \"Learning Disorders and Mathem...   \n",
              "3  {\\n    \"title\": \"Mental Health Disorders and A...   \n",
              "4  {\\n    \"title\": \"Mental Retardation and Associ...   \n",
              "\n",
              "                                     id  \n",
              "0  42a16217-d626-46bd-a331-b85fa9033e73  \n",
              "1  16146dd1-da9c-46b4-a38d-4a14d9003405  \n",
              "2  685fa3e5-a5c7-453b-839b-f01a0d8842e2  \n",
              "3  cfe0ef8c-ead3-41c3-93b3-a6cbf02bfe4e  \n",
              "4  0f8346dc-6919-405b-84d4-4454c0874f59  "
            ]
          },
          "execution_count": 9,
          "metadata": {},
          "output_type": "execute_result"
        }
      ],
      "source": [
        "from openai import OpenAI\n",
        "\n",
        "llm = ChatOpenAI(\n",
        "    api_key=OPENAI_API_KEY,\n",
        "    model=\"gpt-4o-mini\",\n",
        "    api_type=OpenaiApiType.OpenAI,  # OpenaiApiType.OpenAI or OpenaiApiType.AzureOpenAI\n",
        "    max_retries=20,\n",
        ")\n",
        "\n",
        "token_encoder = tiktoken.get_encoding(\"cl100k_base\")\n",
        "\n",
        "# parquet files generated from indexing pipeline\n",
        "INPUT_DIR = \"/content/drive/MyDrive/ragtest/output/20240919-204815/artifacts\"\n",
        "COMMUNITY_TABLE = \"create_final_communities\"\n",
        "COMMUNITY_REPORT_TABLE = \"create_final_community_reports\"\n",
        "ENTITY_TABLE = \"create_final_nodes\"\n",
        "ENTITY_EMBEDDING_TABLE = \"create_final_entities\"\n",
        "\n",
        "# community level in the Leiden community hierarchy from which we will load the community reports\n",
        "# higher value means we use reports from more fine-grained communities (at the cost of higher computation cost)\n",
        "COMMUNITY_LEVEL = 0\n",
        "\n",
        "community_df = pd.read_parquet(f\"{INPUT_DIR}/{COMMUNITY_TABLE}.parquet\")\n",
        "entity_df = pd.read_parquet(f\"{INPUT_DIR}/{ENTITY_TABLE}.parquet\")\n",
        "report_df = pd.read_parquet(f\"{INPUT_DIR}/{COMMUNITY_REPORT_TABLE}.parquet\")\n",
        "entity_embedding_df = pd.read_parquet(f\"{INPUT_DIR}/{ENTITY_EMBEDDING_TABLE}.parquet\")\n",
        "\n",
        "communities = read_indexer_communities(community_df, entity_df, report_df)\n",
        "reports = read_indexer_reports(report_df, entity_df, COMMUNITY_LEVEL)\n",
        "entities = read_indexer_entities(entity_df, entity_embedding_df, COMMUNITY_LEVEL)\n",
        "print(f\"Total report count: {len(report_df)}\")\n",
        "print(\n",
        "    f\"Report count after filtering by community level {COMMUNITY_LEVEL}: {len(reports)}\"\n",
        ")\n",
        "report_df.head()"
      ]
    },
    {
      "cell_type": "code",
      "execution_count": null,
      "metadata": {
        "id": "EBFpYeQXq5UX"
      },
      "outputs": [],
      "source": [
        "context_builder = GlobalCommunityContext(\n",
        "    community_reports=reports,\n",
        "    communities=communities,\n",
        "    entities=entities,  # default to None if you don't want to use community weights for ranking\n",
        "    token_encoder=token_encoder,\n",
        ")"
      ]
    },
    {
      "cell_type": "code",
      "execution_count": null,
      "metadata": {
        "id": "ioNTXC8Cq5SD"
      },
      "outputs": [],
      "source": [
        "context_builder_params = {\n",
        "    \"use_community_summary\": False,  # False means using full community reports. True means using community short summaries.\n",
        "    \"shuffle_data\": True,\n",
        "    \"include_community_rank\": True,\n",
        "    \"min_community_rank\": 0,\n",
        "    \"community_rank_name\": \"rank\",\n",
        "    \"include_community_weight\": True,\n",
        "    \"community_weight_name\": \"occurrence weight\",\n",
        "    \"normalize_community_weight\": True,\n",
        "    \"max_tokens\": 12_000,  # change this based on the token limit you have on your model (if you are using a model with 8k limit, a good setting could be 5000)\n",
        "    \"context_name\": \"Reports\",\n",
        "}\n",
        "\n",
        "map_llm_params = {\n",
        "    \"max_tokens\": 1000,\n",
        "    \"temperature\": 0.0,\n",
        "    \"response_format\": {\"type\": \"json_object\"},\n",
        "}\n",
        "\n",
        "reduce_llm_params = {\n",
        "    \"max_tokens\": 2000,  # change this based on the token limit you have on your model (if you are using a model with 8k limit, a good setting could be 1000-1500)\n",
        "    \"temperature\": 0.0,\n",
        "}\n"
      ]
    },
    {
      "cell_type": "code",
      "execution_count": null,
      "metadata": {
        "id": "zrILwsxoamgK"
      },
      "outputs": [],
      "source": [
        "MAP_SYSTEM_PROMPT = \"\"\"\n",
        "---Role---\n",
        "\n",
        "You are a helpful assistant retrieving data related to the user query who is in a virtual therapy session.\n",
        "\n",
        "\n",
        "---Goal---\n",
        "\n",
        "Generate a response consisting of a list of key points that responds to the user's query, summarizing all relevant information in the input data tables.\n",
        "\n",
        "You should use the data provided in the data tables below as the primary context for generating the response.\n",
        "If you don't know the answer or if the input data tables do not contain sufficient information to provide an answer, just say so. Do not make anything up.\n",
        "\n",
        "Each key point in the response should have the following element:\n",
        "- Description: A comprehensive description of the point.\n",
        "- Importance Score: An integer score between 0-100 that indicates how important the point is in answering the user's question. An 'I don't know' type of response should have a score of 0.\n",
        "\n",
        "The response should be JSON formatted as follows:\n",
        "{{\n",
        "    \"points\": [\n",
        "        {{\"description\": \"Description of point 1 [Data: Reports (report ids)]\", \"score\": score_value}},\n",
        "        {{\"description\": \"Description of point 2 [Data: Reports (report ids)]\", \"score\": score_value}}\n",
        "    ]\n",
        "}}\n",
        "\n",
        "The response shall preserve the original meaning and use of modal verbs such as \"shall\", \"may\" or \"will\".\n",
        "\n",
        "Points supported by data should list the relevant reports as references as follows:\n",
        "\"This is an example sentence supported by data references [Data: Reports (report ids)]\"\n",
        "\n",
        "**Do not list more than 5 record ids in a single reference**. Instead, list the top 5 most relevant record ids and add \"+more\" to indicate that there are more.\n",
        "\n",
        "For example:\n",
        "\"Person X is the owner of Company Y and subject to many allegations of wrongdoing [Data: Reports (2, 7, 64, 46, 34, +more)]. He is also CEO of company X [Data: Reports (1, 3)]\"\n",
        "\n",
        "where 1, 2, 3, 7, 34, 46, and 64 represent the id (not the index) of the relevant data report in the provided tables.\n",
        "\n",
        "Do not include information where the supporting evidence for it is not provided.\n",
        "\n",
        "---Example---\n",
        "Emotional abuse\n",
        "Your Output should answer the following questions:\n",
        "-- What is emotional abuse\n",
        "-- What are the signs and symptoms of emotional abuse\n",
        "-- What is the therapeutic process of treating emotional abuse\n",
        "\n",
        "---Data tables---\n",
        "\n",
        "{context_data}\n",
        "\n",
        "\"\"\""
      ]
    },
    {
      "cell_type": "code",
      "execution_count": null,
      "metadata": {
        "id": "N78ASQ5Hq5Pk"
      },
      "outputs": [],
      "source": [
        "search_engine = GlobalSearch(\n",
        "    llm=llm,\n",
        "    context_builder=context_builder,\n",
        "    token_encoder=token_encoder,\n",
        "    max_data_tokens=12_000,  # change this based on the token limit you have on your model (if you are using a model with 8k limit, a good setting could be 5000)\n",
        "    map_llm_params=map_llm_params,\n",
        "    reduce_llm_params=reduce_llm_params,\n",
        "    allow_general_knowledge=False,  # set this to True will add instruction to encourage the LLM to incorporate general knowledge in the response, which may increase hallucinations, but could be useful in some use cases.\n",
        "    json_mode=True,  # set this to False if your LLM model does not support JSON mode.\n",
        "    context_builder_params=context_builder_params,\n",
        "    concurrent_coroutines=32,\n",
        "    map_system_prompt=MAP_SYSTEM_PROMPT,\n",
        "    response_type=\"multiple paragraphs\", # free form text describing the response type and format, can be anything, e.g. prioritized list, single paragraph, multiple paragraphs, multiple-page report\n",
        ")"
      ]
    },
    {
      "cell_type": "code",
      "execution_count": null,
      "metadata": {
        "colab": {
          "base_uri": "https://localhost:8080/"
        },
        "collapsed": true,
        "id": "nW9ML9QXq5Nm",
        "outputId": "e9975379-8940-4d86-900a-de59e108242f"
      },
      "outputs": [
        {
          "name": "stdout",
          "output_type": "stream",
          "text": [
            "# Overview of Sleep Disorders\n",
            "\n",
            "Sleep disorders encompass a variety of conditions that significantly impact the quality, timing, and duration of sleep. These disorders can lead to daytime distress and impair functioning, making it essential to understand their characteristics for effective diagnosis and management. Common types of sleep disorders include insomnia, sleep apnea, narcolepsy, and parasomnias such as Sleep Terror Disorder and Sleepwalking Disorder.\n",
            "\n",
            "## Impact on Mental Health\n",
            "\n",
            "The relationship between sleep disorders and mental health is profound. Sleep disorders may exacerbate conditions like anxiety and depression, indicating that addressing sleep issues is crucial for improving overall mental health and well-being. Integrated treatment approaches that consider both sleep and mental health are necessary for effective care [Data: Reports (1, 2, 3, 4, 5, +more)].\n",
            "\n",
            "## Types of Sleep Disorders\n",
            "\n",
            "### Insomnia\n",
            "Insomnia is characterized by difficulty falling asleep, staying asleep, or waking up too early, resulting in non-restorative sleep. It can be acute or chronic and is often associated with stress and anxiety. Treatment options may include cognitive-behavioral therapy for insomnia (CBT-I) or medication [Data: Reports (1, 2, 3, 4, 5, +more)].\n",
            "\n",
            "### Sleep Apnea\n",
            "Sleep apnea is a serious disorder where breathing repeatedly stops and starts during sleep, leading to fragmented sleep and reduced oxygen levels. It is often associated with loud snoring and excessive daytime sleepiness. Treatment may involve lifestyle changes, CPAP therapy, or surgery [Data: Reports (1, 2, 3, 4, 5, +more)].\n",
            "\n",
            "### Narcolepsy\n",
            "Narcolepsy affects the control of sleep and wakefulness, leading to excessive daytime sleepiness and sudden sleep attacks. It may also include symptoms such as cataplexy, hallucinations, and sleep paralysis. Treatment typically involves medication and lifestyle adjustments [Data: Reports (1, 2, 3, 4, 5, +more)].\n",
            "\n",
            "### Sleep Terror Disorder\n",
            "Sleep Terror Disorder is marked by episodes of intense fear during sleep, often accompanied by tachycardia and autonomic arousal. These episodes usually occur during deep NREM sleep and can lead to significant distress for both the individual and their family. This disorder predominantly affects children but may persist into adulthood, indicating a chronic nature that may require ongoing management [Data: Reports (552, 553, 1579, 2969, 3054)].\n",
            "\n",
            "## Co-occurrence and Risk Factors\n",
            "\n",
            "Sleep Terror Disorder and Sleepwalking Disorder are both classified as parasomnias and may occur simultaneously, complicating diagnosis and treatment. Emotional and physical stressors, such as anxiety and trauma, are known to increase the frequency of sleep terror episodes. Additionally, sleep deprivation is a significant risk factor for both disorders, highlighting the importance of maintaining healthy sleep hygiene to prevent exacerbation [Data: Reports (552, 2969)].\n",
            "\n",
            "## Conclusion\n",
            "\n",
            "Understanding sleep disorders is essential for effective diagnosis and management. The interplay between sleep health and mental well-being underscores the need for comprehensive treatment strategies that address both aspects. By recognizing the symptoms and risk factors associated with these disorders, healthcare providers can offer appropriate interventions and support to improve patients' quality of life [Data: Reports (1, 2, 3, 4, 5, +more)].\n"
          ]
        }
      ],
      "source": [
        "result = await search_engine.asearch(\n",
        "    \"sleep disorder\"\n",
        ")\n",
        "\n",
        "print(result.response)"
      ]
    },
    {
      "cell_type": "code",
      "execution_count": null,
      "metadata": {
        "collapsed": true,
        "id": "nNhv43i1Ezhl"
      },
      "outputs": [],
      "source": [
        "import uuid\n",
        "from langchain_core.documents import Document\n",
        "\n",
        "def save_retrieved_data(data: str) -> str:\n",
        "    \"\"\"\n",
        "    Use this tool to save the retrieved data as a single document containing\n",
        "    entities and their relationships, based on instructions provided.\n",
        "    \"\"\"\n",
        "    print(\"Saving data...\")\n",
        "    # Retrieve the user ID from the config\n",
        "    user_id = \"123\"\n",
        "\n",
        "    # Create a single document with the entire data string\n",
        "    document = Document(\n",
        "        data,\n",
        "        id=str(uuid.uuid4()),\n",
        "        metadata={\"user_id\": user_id}\n",
        "    )\n",
        "\n",
        "    # Add this document to the vector store\n",
        "    graphrag_vector_store.add_documents([document])\n",
        "\n",
        "    # Return the saved data for confirmation/logging purposes\n",
        "    return data\n",
        "\n",
        "async def call_graphrag(query: str) -> str:\n",
        "    \"\"\"Search for relevant memories.\"\"\"\n",
        "    search_engine = GlobalSearch(\n",
        "        llm=llm,\n",
        "        context_builder=context_builder,\n",
        "        token_encoder=token_encoder,\n",
        "        max_data_tokens=12_000,  # change this based on the token limit you have on your model (if you are using a model with 8k limit, a good setting could be 5000)\n",
        "        map_llm_params=map_llm_params,\n",
        "        reduce_llm_params=reduce_llm_params,\n",
        "        allow_general_knowledge=False,  # set this to True will add instruction to encourage the LLM to incorporate general knowledge in the response, which may increase hallucinations, but could be useful in some use cases.\n",
        "        json_mode=True,  # set this to False if your LLM model does not support JSON mode.\n",
        "        context_builder_params=context_builder_params,\n",
        "        concurrent_coroutines=32,\n",
        "        map_system_prompt=MAP_SYSTEM_PROMPT,\n",
        "        response_type=\"multiple paragraphs\", # free form text describing the response type and format, can be anything, e.g. prioritized list, single paragraph, multiple paragraphs, multiple-page report\n",
        "    )\n",
        "\n",
        "    result = await search_engine.asearch(query)\n",
        "\n",
        "    save_retrieved_data(result.response)\n"
      ]
    },
    {
      "cell_type": "markdown",
      "metadata": {
        "id": "W5KxS2vVWRKB"
      },
      "source": [
        "## Create Agent"
      ]
    },
    {
      "cell_type": "code",
      "execution_count": null,
      "metadata": {
        "id": "0QpqTAK7cnSp"
      },
      "outputs": [],
      "source": [
        "from langchain_core.messages import (\n",
        "    BaseMessage,\n",
        "    HumanMessage,\n",
        "    ToolMessage,\n",
        ")\n",
        "from langchain_core.prompts import ChatPromptTemplate, MessagesPlaceholder\n",
        "\n",
        "from langgraph.graph import END, StateGraph, START\n",
        "\n",
        "\n",
        "def create_agent(llm, tools, system_message: str):\n",
        "    \"\"\"Create an agent.\"\"\"\n",
        "    prompt = ChatPromptTemplate.from_messages(\n",
        "        [\n",
        "            (\n",
        "                \"system\",\n",
        "                \"You are a helpful AI assistant, collaborating with other assistants.\"\n",
        "                \" Use the provided tools to progress towards answering the question.\"\n",
        "                \" If you are unable to fully answer, that's OK, another assistant with different tools \"\n",
        "                \" will help where you left off. Execute what you can to make progress.\"\n",
        "                \" \\n{system_message}\"\n",
        "            ),\n",
        "            MessagesPlaceholder(variable_name=\"messages\"),\n",
        "        ]\n",
        "    )\n",
        "\n",
        "    #### If tools is empty\n",
        "    if not tools:\n",
        "        prompt = prompt.partial(system_message=system_message)\n",
        "        return prompt | llm\n",
        "\n",
        "    prompt = prompt.partial(system_message=system_message)\n",
        "    prompt = prompt.partial(tool_names=\", \".join([tool.name for tool in tools]))\n",
        "    # functions = [format_tool_to_openai_function(t) for t in tools]\n",
        "    # llm_with_tools = llm.bind_functions(functions=functions)\n",
        "    return prompt | llm.bind_tools(tools)\n"
      ]
    },
    {
      "cell_type": "markdown",
      "metadata": {
        "id": "1FJwAxNWN9Cn"
      },
      "source": [
        "## States"
      ]
    },
    {
      "cell_type": "code",
      "execution_count": null,
      "metadata": {
        "id": "O2dWDF_4N-8B"
      },
      "outputs": [],
      "source": [
        "import operator\n",
        "from typing import Annotated, Sequence, List\n",
        "from langchain_openai import ChatOpenAI\n",
        "from langgraph.graph import END, START, MessagesState, StateGraph\n",
        "from langgraph.prebuilt import ToolNode\n",
        "\n",
        "# This defines the object that is passed between each node\n",
        "# in the graph. We will create different nodes for each agent and tool\n",
        "\n",
        "class MemoryState(MessagesState):\n",
        "    messages: Annotated[Sequence[BaseMessage], operator.add]\n",
        "    recall_memories: str\n",
        "    sender: str\n",
        "\n",
        "class RagState(MessagesState):\n",
        "    messages: Annotated[Sequence[BaseMessage], operator.add]\n",
        "    recall_docs: str\n",
        "    api_calls: int\n"
      ]
    },
    {
      "cell_type": "markdown",
      "metadata": {
        "id": "KqaAZnc1Nvwg"
      },
      "source": [
        "## Tools"
      ]
    },
    {
      "cell_type": "markdown",
      "metadata": {
        "id": "gPc9vOKEgSJC"
      },
      "source": [
        "### Memory Tools"
      ]
    },
    {
      "cell_type": "code",
      "execution_count": null,
      "metadata": {
        "id": "6cRjWJx3ct9Q"
      },
      "outputs": [],
      "source": [
        "import uuid\n",
        "\n",
        "from typing import Annotated, Any, List\n",
        "from langchain_core.tools import tool\n",
        "from langchain_core.runnables import RunnableConfig\n",
        "\n",
        "from typing_extensions import TypedDict\n",
        "\n",
        "\n",
        "class KnowledgeTriple(TypedDict):\n",
        "    subject: Annotated[str, ..., \"An entity this could be people, emotions, issues ... etc.\"]\n",
        "    predicate: Annotated[str, ..., \"The relationship between the subject and the object\"]\n",
        "    object_: Annotated[str, ..., \"An entity this could be people, emotions, issues ... etc.\"]\n",
        "\n",
        "\n",
        "def get_user_id(config: RunnableConfig) -> str:\n",
        "    user_id = config[\"configurable\"].get(\"user_id\")\n",
        "    if user_id is None:\n",
        "        raise ValueError(\"User ID needs to be provided to save a memory.\")\n",
        "\n",
        "    return user_id\n",
        "\n",
        "@tool\n",
        "def save_recall_memory(memories: List[KnowledgeTriple], config: RunnableConfig) -> str:\n",
        "    \"\"\"\n",
        "    Use this tool to save the entities and thier ralationships based on the instructions given to you.\n",
        "\n",
        "    \"\"\"\n",
        "    user_id = get_user_id(config)\n",
        "    for memory in memories:\n",
        "        serialized = \" \".join(memory.values())\n",
        "        document = Document(\n",
        "            serialized,\n",
        "            id=str(uuid.uuid4()),\n",
        "            metadata={\n",
        "                \"user_id\": user_id,\n",
        "                **memory,\n",
        "            },\n",
        "        )\n",
        "        recall_vector_store.add_documents([document])\n",
        "    return memories\n",
        "\n",
        "@tool\n",
        "def search_recall_memories(query: str, config: RunnableConfig) -> List[str]:\n",
        "    \"\"\"Search for relevant memories.\"\"\"\n",
        "    user_id = get_user_id(config)\n",
        "\n",
        "    def _filter_function(doc: Document) -> bool:\n",
        "        return doc.metadata.get(\"user_id\") == user_id\n",
        "\n",
        "    documents = recall_vector_store.similarity_search(\n",
        "        query, k=3, filter=_filter_function\n",
        "    )\n",
        "    return [document.page_content for document in documents]"
      ]
    },
    {
      "cell_type": "markdown",
      "metadata": {
        "id": "V3KntKgFBseq"
      },
      "source": [
        "### GraphRAG agent tools"
      ]
    },
    {
      "cell_type": "code",
      "execution_count": null,
      "metadata": {
        "id": "LbDi8XCXBx0O"
      },
      "outputs": [],
      "source": [
        "import uuid\n",
        "from langchain.agents import Tool\n",
        "from langchain_core.documents import Document\n",
        "\n",
        "def save_retrieved_data(data: str, config: RunnableConfig) -> str:\n",
        "    \"\"\"\n",
        "    Use this tool to save the retrieved data as a single document containing\n",
        "    entities and their relationships, based on instructions provided.\n",
        "    \"\"\"\n",
        "    # Retrieve the user ID from the config\n",
        "    user_id = get_user_id(config)\n",
        "\n",
        "    # Create a single document with the entire data string\n",
        "    document = Document(\n",
        "        data,\n",
        "        id=str(uuid.uuid4()),\n",
        "        metadata={\"user_id\": user_id}\n",
        "    )\n",
        "\n",
        "    # Add this document to the vector store\n",
        "    graphrag_vector_store.add_documents([document])\n",
        "\n",
        "    return data\n",
        "\n",
        "async def call_graphrag(query: str):\n",
        "    \"\"\"Use this tool to retrieve related information from the graph.\"\"\"\n",
        "    search_engine = GlobalSearch(\n",
        "        llm=llm,\n",
        "        context_builder=context_builder,\n",
        "        token_encoder=token_encoder,\n",
        "        max_data_tokens=12_000,\n",
        "        map_llm_params=map_llm_params,\n",
        "        reduce_llm_params=reduce_llm_params,\n",
        "        allow_general_knowledge=False,\n",
        "        json_mode=True,\n",
        "        context_builder_params=context_builder_params,\n",
        "        concurrent_coroutines=32,\n",
        "        map_system_prompt=MAP_SYSTEM_PROMPT,\n",
        "        response_type=\"multiple paragraphs\",\n",
        "    )\n",
        "\n",
        "    result = await search_engine.asearch(query)\n",
        "\n",
        "    save_retrieved_data(result.response)\n",
        "\n",
        "graphrag_tool = Tool(\n",
        "    name=\"GraphRAG\",\n",
        "    func=call_graphrag,\n",
        "    description=\"Use this tool to retrieve related information from the graph.\",\n",
        "    coroutine=call_graphrag,\n",
        ")"
      ]
    },
    {
      "cell_type": "markdown",
      "metadata": {
        "id": "Han3W3MPWrP2"
      },
      "source": [
        "## Agents and Nodes"
      ]
    },
    {
      "cell_type": "code",
      "execution_count": null,
      "metadata": {
        "collapsed": true,
        "id": "5aXC3MtKc9Rb"
      },
      "outputs": [],
      "source": [
        "import functools\n",
        "from typing import Union\n",
        "from langchain_core.messages import AIMessage, HumanMessage, get_buffer_string\n",
        "# from langchain_core.messages import\n",
        "\n",
        "\n",
        "def load_memories(state: MemoryState, config: RunnableConfig) -> MemoryState:\n",
        "    \"\"\"Load memories for the current conversation.\n",
        "\n",
        "    Args:\n",
        "        state (schemas.State): The current state of the conversation.\n",
        "        config (RunnableConfig): The runtime configuration for the agent.\n",
        "\n",
        "    Returns:\n",
        "        State: The updated state with loaded memories.\n",
        "    \"\"\"\n",
        "    convo_str = get_buffer_string(state[\"messages\"])\n",
        "    convo_str = tokenizer.decode(tokenizer.encode(convo_str)[:2048])\n",
        "    recall_memories = search_recall_memories.invoke(convo_str, config)\n",
        "\n",
        "    return {\n",
        "        \"recall_memories\": recall_memories,\n",
        "    }\n",
        "\n",
        "# Helper function to create a node for a given agent\n",
        "def agent_node_memory(state: MemoryState, agent, name):\n",
        "    result = agent.invoke(state)\n",
        "\n",
        "    # We convert the agent output into a format that is suitable to append to the global state\n",
        "    if isinstance(result, ToolMessage):\n",
        "        pass\n",
        "    else:\n",
        "        result = AIMessage(**result.dict(exclude={\"type\", \"name\"}), name=name)\n",
        "\n",
        "    return {\n",
        "        \"messages\": [result],\n",
        "        # Since we have a strict workflow, we can\n",
        "        # track the sender so we know who to pass to next.\n",
        "        \"sender\": name,\n",
        "    }\n",
        "\n",
        "async def agent_node_rag(state: RagState, agent, name):\n",
        "    messages = state[\"messages\"]\n",
        "    last_message = messages[-1]\n",
        "\n",
        "    if last_message.tool_calls:\n",
        "        print(f\"Tool Call: {last_message.tool_calls}\")\n",
        "        # The previous agent is invoking a tool\n",
        "        result = await agent.invoke(state)\n",
        "    else:\n",
        "        result = agent.ainvoke(state)\n",
        "    print(result)\n",
        "    # print(result.additional_kwargs['tool_calls'][0]['function']['name'])\n",
        "    # Convert the agent output to a suitable format\n",
        "    if isinstance(result, ToolMessage):\n",
        "        pass\n",
        "    # else:\n",
        "    #     result = result\n",
        "\n",
        "    # The return dictionary structure for RagState\n",
        "    return {\n",
        "        \"messages\": [result],\n",
        "        \"sender\": name,\n",
        "    }\n",
        "\n",
        "# llm = groq_chat\n",
        "openai_llm = ChatOpenAI(model=\"gpt-4o-mini\")\n",
        "tokenizer = tiktoken.encoding_for_model(\"gpt-4o-mini\")\n",
        "\n",
        "my_model = ChatOpenAI(model=FT_MODEL)\n",
        "\n",
        "tools = [save_recall_memory, search_recall_memories]#, graphrag_tool]\n",
        "\n",
        "# Classifier agent and node\n",
        "memory_agent = create_agent(\n",
        "    openai_llm,\n",
        "    tools,\n",
        "    system_message=memory_prompt,\n",
        ")\n",
        "memory_node = functools.partial(agent_node_memory, agent=memory_agent, name=\"Memory_agent\")\n",
        "\n",
        "# Generator\n",
        "generator_agent = create_agent(\n",
        "    my_model,\n",
        "    [],\n",
        "    system_message=generator_prompt,\n",
        ")\n",
        "generator_node = functools.partial(agent_node_memory, agent=generator_agent, name=\"Generator\")\n",
        "\n",
        "# Classifier agent and node\n",
        "# clf_agent = create_agent(\n",
        "#     openai_llm,\n",
        "#     [],\n",
        "#     system_message=\"\"\"\n",
        "#     Classify the input message into one or more mental health-related categories. Respond with only the analysis and the relevant categories.\n",
        "\n",
        "#     Analyze the message first to identify the context, language, and any specific indicators that relate to mental health categories. Each category is based on common themes or symptoms in mental health.\n",
        "\n",
        "#     # Steps\n",
        "\n",
        "#     1. **Analyze the Input**: Examine the message for context, language, tone, specific words, phrases, or symptoms related to mental health.\n",
        "#     2. **Identify Categories**: Match the analysis with predefined mental health categories.\n",
        "#     3. **Format the Response**: Prefix your conclusions with \"CLF\", and list the relevant categories.\n",
        "\n",
        "#     # Output Format\n",
        "\n",
        "#     - The output should start with \"CLF\" followed by the analysis and the category or categories.\n",
        "#     - Example format: \"[Category1], [Category2]\".\n",
        "\n",
        "#     # Examples\n",
        "\n",
        "#     **Example 1:**\n",
        "\n",
        "#     - **Input**: \"I've been feeling really down and hopeless for weeks, and nothing seems to make me happy anymore.\"\n",
        "#     - **Output**: \"Depression.\"\n",
        "\n",
        "#     **Example 2:**\n",
        "\n",
        "#     - **Input**: \"I constantly find myself too anxious to leave the house, worrying about things that may never happen.\"\n",
        "#     - **Output**: \"Anxiety.\"\n",
        "\n",
        "#     # Notes\n",
        "\n",
        "#     - Call the clf_tool first and then pass your response to the GraphRAG tool.\n",
        "#     - Ensure that your analysis is precise, focusing on key indicators within the message.\n",
        "#     - Consider edge cases where symptoms might overlap and require multiple category classifications.\n",
        "#     \"\"\",\n",
        "# )\n",
        "# clf_node = functools.partial(agent_node_rag, agent=clf_agent, name=\"Classifier\")\n",
        "\n",
        "# rag_agent = create_agent(\n",
        "#     openai_llm,\n",
        "#     [graphrag_tool],\n",
        "#     system_message=\"Retrieve data passed on the classification from the Classifier\",\n",
        "# )\n",
        "# rag_node = functools.partial(agent_node_rag, agent=rag_agent, name=\"Rag_agent\")"
      ]
    },
    {
      "cell_type": "markdown",
      "metadata": {
        "id": "T4y4XEKdRWT5"
      },
      "source": [
        "## Routing logic"
      ]
    },
    {
      "cell_type": "code",
      "execution_count": null,
      "metadata": {
        "id": "QdXK2Ob-dtJS"
      },
      "outputs": [],
      "source": [
        "from typing import Literal\n",
        "\n",
        "def router(state) -> Literal[\"call_tool\", \"__end__\", \"Generator\"]:\n",
        "\n",
        "    messages = state[\"messages\"]\n",
        "    last_message = messages[-1]\n",
        "    print(f\"reouter state: {state}\")\n",
        "\n",
        "    print(f\"Router msg: {last_message}\")\n",
        "    if last_message.tool_calls:\n",
        "        print(f\"Tool Call: {last_message.tool_calls}\")\n",
        "        # The previous agent is invoking a tool\n",
        "        return \"call_tool\"\n",
        "\n",
        "    if \"Retrieved\" in last_message.content:\n",
        "        # Any agent decided the work is done\n",
        "        return \"Generator\"\n",
        "\n",
        "    return \"__end__\""
      ]
    },
    {
      "cell_type": "markdown",
      "metadata": {
        "id": "ZGwaRnobRaQp"
      },
      "source": [
        "## Define the Graph"
      ]
    },
    {
      "cell_type": "code",
      "execution_count": null,
      "metadata": {
        "colab": {
          "base_uri": "https://localhost:8080/"
        },
        "id": "XWOqC8JIt8kS",
        "outputId": "045af2e6-d19c-48c5-fd93-969bca21fa65"
      },
      "outputs": [
        {
          "data": {
            "text/plain": [
              "<langgraph.graph.state.StateGraph at 0x7d96875e4b80>"
            ]
          },
          "execution_count": 22,
          "metadata": {},
          "output_type": "execute_result"
        }
      ],
      "source": [
        "from langgraph.checkpoint.memory import MemorySaver\n",
        "\n",
        "rag_subgraph = StateGraph(RagState)\n",
        "\n",
        "rag_subgraph.add_node(\"Classifier\", clf_node)\n",
        "rag_subgraph.add_node(\"Rag_agent\", rag_node)\n",
        "rag_subgraph.add_node(\"call_tool\", ToolNode(tools))\n",
        "\n",
        "rag_subgraph.add_edge(START, \"Classifier\")\n",
        "rag_subgraph.add_edge(\"Classifier\", \"Rag_agent\")\n",
        "rag_subgraph.add_edge(\"Rag_agent\", \"call_tool\")"
      ]
    },
    {
      "cell_type": "code",
      "execution_count": null,
      "metadata": {
        "collapsed": true,
        "id": "8CMgua6sdtGn"
      },
      "outputs": [],
      "source": [
        "from langgraph.checkpoint.memory import MemorySaver\n",
        "\n",
        "workflow = StateGraph(MemoryState)\n",
        "\n",
        "workflow.add_node(load_memories)\n",
        "# workflow.add_node(\"load_rag\", ReturnNodeValue(\"load_rag\"))\n",
        "# workflow.add_node(\"Rag_agent\", rag_agent)\n",
        "workflow.add_node(\"Memory_agent\", memory_node)\n",
        "workflow.add_node(\"Generator\", generator_node)\n",
        "# workflow.add_node(\"Classifier\", clf_node)\n",
        "# workflow.add_node(\"GraphRAG\", rag_subgraph.compile())\n",
        "workflow.add_node(\"call_tool\", ToolNode(tools))\n",
        "\n",
        "workflow.add_edge(START, \"load_memories\")\n",
        "workflow.add_edge(\"load_memories\", \"Memory_agent\")\n",
        "workflow.add_conditional_edges(\n",
        "    \"Memory_agent\",\n",
        "    router,\n",
        "    [\"call_tool\", \"Generator\"],\n",
        ")\n",
        "workflow.add_edge(\"call_tool\", \"Memory_agent\")\n",
        "# workflow.add_conditional_edges(\n",
        "#     \"call_tool\",\n",
        "#     # Each agent node updates the 'sender' field\n",
        "#     # the tool calling node does not, meaning\n",
        "#     # this edge will route back to the original agent\n",
        "#     # who invoked the tool\n",
        "#     lambda x: x[\"sender\"],\n",
        "#     {\n",
        "#         \"Memory_agent\": \"Memory_agent\",\n",
        "#         # \"Classifier\": \"Classifier\",\n",
        "#     },\n",
        "# )\n",
        "\n",
        "# Memory_agent -> Generator\n",
        "workflow.add_edge(\"Generator\", \"__end__\")\n",
        "\n",
        "memory = MemorySaver()\n",
        "graph = workflow.compile(checkpointer=memory)"
      ]
    },
    {
      "cell_type": "code",
      "execution_count": 7,
      "metadata": {
        "id": "bBOD_nPRx-M9"
      },
      "outputs": [],
      "source": [
        "entry_graph = StateGraph(State)\n",
        "\n",
        "entry_graph.add_node(\"Prompt\", get_user_prompt)\n",
        "entry_graph.add_node(\"GraphRAG\", rag_subgraph.compile())\n",
        "entry_graph.add_node(\"Workflow\", workflow.compile())\n",
        "\n",
        "#entry_graph.set_entry_point(\"Prompt\")\n",
        "entry_graph.add_edge(START, \"GraphRAG\")\n",
        "entry_graph.add_edge(START, \"Workflow\")\n",
        "entry_graph.add_edge(\"GraphRAG\", END)\n",
        "entry_graph.add_edge(\"Workflow\", END)\n",
        "\n",
        "memory = MemorySaver()\n",
        "graph = entry_graph.compile(checkpointer=memory)"
      ]
    },
    {
      "cell_type": "code",
      "execution_count": null,
      "metadata": {
        "colab": {
          "base_uri": "https://localhost:8080/",
          "height": 449
        },
        "id": "qTTmGAQne_wq",
        "outputId": "b3412f54-c17f-4670-c08f-a0ec7333394d"
      },
      "outputs": [
        {
          "data": {
            "image/png": "[encoded data removed]",
            "text/plain": [
              "<IPython.core.display.Image object>"
            ]
          },
          "metadata": {},
          "output_type": "display_data"
        }
      ],
      "source": [
        "from IPython.display import Image, display\n",
        "\n",
        "display(Image(graph.get_graph(xray=1).draw_mermaid_png()))"
      ]
    },
    {
      "cell_type": "markdown",
      "metadata": {
        "id": "g6ohH4IyWxs6"
      },
      "source": [
        "## Run"
      ]
    },
    {
      "cell_type": "code",
      "execution_count": null,
      "metadata": {
        "id": "qjZf8UCBdtEC"
      },
      "outputs": [],
      "source": [
        "config = {\"configurable\": {\"user_id\": \"1\", \"thread_id\": \"1\"}}\n",
        "\n",
        "events = graph.stream(\n",
        "    {\n",
        "        \"messages\": [\n",
        "            HumanMessage(\n",
        "                content=\"\"\"\n",
        "                \"\"\"\n",
        "            )\n",
        "        ],\n",
        "    },\n",
        "    config=config,\n",
        ")\n",
        "\n",
        "for s in events:\n",
        "    print(s)\n",
        "    print(\"----\")"
      ]
    },
    {
      "cell_type": "code",
      "execution_count": null,
      "metadata": {
        "colab": {
          "base_uri": "https://localhost:8080/",
          "height": 870
        },
        "id": "iz4HeYnbds-d",
        "outputId": "ef39247f-846e-4f46-de0b-235ebe9af026"
      },
      "outputs": [
        {
          "name": "stdout",
          "output_type": "stream",
          "text": [
            "[Document(id='fe98d82b-20cd-4c3b-8426-091ae1b8e8b0', metadata={'user_id': '1', 'subject': 'ETHAN', 'predicate': 'wants to remind himself that he’s not alone in feeling this way', 'object_': 'and that his emotions matter'}, page_content='ETHAN wants to remind himself that he’s not alone in feeling this way and that his emotions matter'), Document(id='6105e84a-65c4-4eae-b268-9fab0b4a2353', metadata={'user_id': '1', 'subject': 'ETHAN', 'predicate': 'feeling', 'object_': 'stuck'}, page_content='ETHAN feeling stuck'), Document(id='b656d776-5be1-4741-9318-0818ba7293d0', metadata={'user_id': '1', 'subject': 'ETHAN', 'predicate': 'feeling', 'object_': 'running on empty'}, page_content='ETHAN feeling running on empty'), Document(id='0e9e1dd8-faaa-4dec-8536-c2f58e049b22', metadata={'user_id': '1', 'subject': 'ETHAN', 'predicate': 'feeling', 'object_': 'burnout'}, page_content='ETHAN feeling burnout'), Document(id='e7367ff9-d21b-48bb-a9f7-d708772e0f5e', metadata={'user_id': '1', 'subject': 'ETHAN', 'predicate': 'feels lonely', 'object_': 'despite wanting connection'}, page_content='ETHAN feels lonely despite wanting connection'), Document(id='fadca4c0-6520-46e8-94aa-55b9dbd9655f', metadata={'user_id': '1', 'subject': 'ETHAN', 'predicate': 'reminds himself that it’s okay if the conversation isn’t perfect', 'object_': 'and that awkwardness is part of the process'}, page_content='ETHAN reminds himself that it’s okay if the conversation isn’t perfect and that awkwardness is part of the process'), Document(id='57090e58-0aed-444f-95a7-7995df2244b9', metadata={'user_id': '1', 'subject': 'ETHAN', 'predicate': 'wakes up feeling', 'object_': 'tired'}, page_content='ETHAN wakes up feeling tired'), Document(id='567ac2bb-8b67-45ba-ad6c-0f116eda7797', metadata={'user_id': '1', 'subject': 'ETHAN', 'predicate': 'wants to share how he’s been feeling', 'object_': 'stuck lately with CLAIRE'}, page_content='ETHAN wants to share how he’s been feeling stuck lately with CLAIRE'), Document(id='a69c6991-5d36-42b3-90d5-dc40ea5585e0', metadata={'user_id': '1', 'subject': 'ETHAN', 'predicate': 'plans to take a small leap of vulnerability with', 'object_': 'CLAIRE'}, page_content='ETHAN plans to take a small leap of vulnerability with CLAIRE'), Document(id='a862355f-5953-4a30-b884-cb8a3eef3080', metadata={'user_id': '1', 'subject': 'ETHAN', 'predicate': 'worries that friends might think', 'object_': \"he's being dramatic\"}, page_content=\"ETHAN worries that friends might think he's being dramatic\"), Document(id='7f0bcaae-0f35-4863-af37-7e2615dc83d1', metadata={'user_id': '1', 'subject': 'ETHAN', 'predicate': 'holding back', 'object_': 'from connecting deeply with other friends'}, page_content='ETHAN holding back from connecting deeply with other friends'), Document(id='55014d19-1735-4c7a-9bd3-29649c76fe1c', metadata={'user_id': '1', 'subject': 'ETHAN', 'predicate': 'plans to test the waters by mentioning', 'object_': 'how he feels stuck lately'}, page_content='ETHAN plans to test the waters by mentioning how he feels stuck lately'), Document(id='1de54f67-4af1-4026-8329-a682169369e2', metadata={'user_id': '1', 'subject': 'ETHAN', 'predicate': 'wants to practice self-compassion', 'object_': 'as he goes through this process'}, page_content='ETHAN wants to practice self-compassion as he goes through this process'), Document(id='34ea15ca-3b3b-4630-a503-9d66aabf5329', metadata={'user_id': '1', 'subject': 'ETHAN', 'predicate': 'fears expecting too much from people', 'object_': 'for feeling and sharing'}, page_content='ETHAN fears expecting too much from people for feeling and sharing'), Document(id='36cf41c1-003b-4cef-96c4-1bea3019df81', metadata={'user_id': '1', 'subject': 'ETHAN', 'predicate': 'recognizes that a bad response doesn’t mean friends don’t care', 'object_': 'they might be bad at deep conversations'}, page_content='ETHAN recognizes that a bad response doesn’t mean friends don’t care they might be bad at deep conversations'), Document(id='ed99f826-c9d1-43bf-95fa-2c8a50f4751d', metadata={'user_id': '1', 'subject': 'ETHAN', 'predicate': 'describes opening up as a balancing act', 'object_': 'weighing potential connection against risk of feeling let down'}, page_content='ETHAN describes opening up as a balancing act weighing potential connection against risk of feeling let down'), Document(id='a1e1de7b-d1e5-4931-89b3-5d52c3188f50', metadata={'user_id': '1', 'subject': 'ETHAN', 'predicate': 'acknowledges that not everyone is equipped for deep conversations', 'object_': 'and that’s okay'}, page_content='ETHAN acknowledges that not everyone is equipped for deep conversations and that’s okay'), Document(id='77a9086f-57ff-4c9a-ac18-27d3720adbd2', metadata={'user_id': '1', 'subject': 'ETHAN', 'predicate': 'fear of opening up to friends', 'object_': 'they might not understand like MATT did'}, page_content='ETHAN fear of opening up to friends they might not understand like MATT did'), Document(id='f3d6b64b-3e63-43cf-a61a-85510ffe095c', metadata={'user_id': '1', 'subject': 'ETHAN', 'predicate': 'daily routine includes', 'object_': 'going to work, scrolling through phone, watching TV'}, page_content='ETHAN daily routine includes going to work, scrolling through phone, watching TV'), Document(id='9b51fcfe-b5ec-44fb-b5a7-d1d98d6ddf78', metadata={'user_id': '1', 'subject': 'MATT', 'predicate': 'was go-to person for venting', 'object_': 'ETHAN'}, page_content='MATT was go-to person for venting ETHAN')]\n"
          ]
        },
        {
          "data": {
            "image/png": "[encoded data removed]",
            "text/plain": [
              "<Figure size 1200x800 with 1 Axes>"
            ]
          },
          "metadata": {},
          "output_type": "display_data"
        }
      ],
      "source": [
        "import matplotlib.pyplot as plt\n",
        "import networkx as nx\n",
        "\n",
        "# Fetch records\n",
        "records = recall_vector_store.similarity_search(\n",
        "    \"\", k=20, filter=lambda doc: doc.metadata[\"user_id\"] == \"1\"\n",
        ")\n",
        "\n",
        "print(records)\n",
        "# Plot graph\n",
        "plt.figure(figsize=(15, 10), dpi=80)\n",
        "G = nx.DiGraph()\n",
        "\n",
        "for record in records:\n",
        "    G.add_edge(\n",
        "        record.metadata[\"subject\"],\n",
        "        record.metadata[\"object_\"],\n",
        "        label=record.metadata[\"predicate\"],\n",
        "    )\n",
        "\n",
        "pos = nx.spring_layout(G)\n",
        "nx.draw(\n",
        "    G,\n",
        "    pos,\n",
        "    with_labels=True,\n",
        "    node_size=3000,\n",
        "    node_color=\"lightblue\",\n",
        "    font_size=10,\n",
        "    font_weight=\"bold\",\n",
        "    arrows=True,\n",
        ")\n",
        "edge_labels = nx.get_edge_attributes(G, \"label\")\n",
        "nx.draw_networkx_edge_labels(G, pos, edge_labels=edge_labels, font_color=\"red\")\n",
        "plt.show()"
      ]
    }
  ],
  "metadata": {
    "colab": {
      "provenance": []
    },
    "kernelspec": {
      "display_name": "Python 3",
      "name": "python3"
    },
    "language_info": {
      "name": "python"
    }
  },
  "nbformat": 4,
  "nbformat_minor": 0
}